{
 "cells": [
  {
   "cell_type": "code",
   "execution_count": 1,
   "id": "58b4a86b-7f60-463f-af1b-88b840a68052",
   "metadata": {},
   "outputs": [],
   "source": [
    "import numpy as np\n",
    "from typing import List\n"
   ]
  },
  {
   "cell_type": "code",
   "execution_count": 2,
   "id": "23f6b067-4e63-4d28-983e-2a06783a9c05",
   "metadata": {},
   "outputs": [],
   "source": [
    "\n",
    "class Player:\n",
    "    def __init__(self, name, mark):\n",
    "        self._name = name\n",
    "        self._mark = mark\n",
    "\n",
    "    @property\n",
    "    def name(self):\n",
    "        return self._name\n",
    "\n",
    "    @property\n",
    "    def mark(self):\n",
    "        return self._mark\n"
   ]
  },
  {
   "cell_type": "code",
   "execution_count": 38,
   "id": "2bc3c4c4-a5a8-4792-a05f-359873f5a239",
   "metadata": {},
   "outputs": [],
   "source": [
    "\n",
    "class Grid:\n",
    "    def __init__(self, d):\n",
    "        self.w = 3\n",
    "        self.d = d\n",
    "        self.game_grid = None\n",
    "        self.position_grid = None\n",
    "        self.score_grid = None\n",
    "        self.init_game_grid()\n",
    "        self.init_position_grid()\n",
    "        self.init_score_grid()\n",
    "\n",
    "    def init_game_grid(self):\n",
    "        _tuple = tuple([self.w for _ in range(self.d)])\n",
    "        self.game_grid = np.zeros(_tuple, dtype=int)\n",
    "\n",
    "    def init_position_grid(self):\n",
    "        n = self.w ** (self.d // 2)\n",
    "        _tuple = (n,n)\n",
    "        self.position_grid = np.zeros(_tuple, dtype=int)\n",
    "\n",
    "    # @property\n",
    "    # def game_grid(self):\n",
    "    #     return self._grid\n",
    "\n",
    "    def get_w(self):\n",
    "        return self.w\n",
    "\n",
    "    def get_d(self):\n",
    "        return self.d\n",
    "\n",
    "    def is_valid_position(self, x, y):\n",
    "        return 0 <= x < self.w and 0 <= y < self.w\n",
    "\n",
    "    def place_mark(self, x, y, value):\n",
    "        if self.grid is None:\n",
    "            raise ValueError(\"Grid is not initialized\")\n",
    "\n",
    "        if not self.is_valid_position(x, y):\n",
    "            raise ValueError(f\"Position ({x}, {y}) is out of bounds. Valid range: 0-{self.w-1}\")\n",
    "\n",
    "        self.grid[x][y] = value\n",
    "\n",
    "    \n",
    "    def init_score_grid(self):\n",
    "        n = self.w ** (self.d // 2 - 1)\n",
    "        # print(f\"{n}x{n} matrix\")\n",
    "        score_grid_d = np.zeros((n, n)) \n",
    "        self.score_grid = score_grid_d\n",
    "\n",
    "\n",
    "    def show_index_grid(self):\n",
    "        \"\"\" get matrix of 3x3 grids \"\"\"\n",
    "        n = self.w ** (self.d // 2 - 1)\n",
    "        num_of_grids = n * n\n",
    "        matrix = np.arange(num_of_grids).reshape(n, n)\n",
    "        return matrix\n",
    "\n",
    "    # @property\n",
    "    # def score_grid(self):\n",
    "    #     return self._score_grid\n",
    "\n"
   ]
  },
  {
   "cell_type": "code",
   "execution_count": 36,
   "id": "e5dbdc31-f845-4345-99f0-189fd5954638",
   "metadata": {},
   "outputs": [
    {
     "name": "stdout",
     "output_type": "stream",
     "text": [
      "[[0 0 0]\n",
      " [0 0 0]\n",
      " [0 0 0]]\n",
      "[[0 0 0]\n",
      " [0 0 0]\n",
      " [0 0 0]]\n"
     ]
    }
   ],
   "source": [
    "\n",
    "grid = Grid(2)\n",
    "\n",
    "print(grid.position_grid)\n",
    "print(grid.game_grid)"
   ]
  },
  {
   "cell_type": "code",
   "execution_count": 46,
   "id": "0de7a877-1bcd-4f1e-9431-687d73044ee4",
   "metadata": {},
   "outputs": [],
   "source": [
    "\n",
    "# grid = Grid(4)\n",
    "\n",
    "# print(grid.position_grid)\n",
    "# print(grid.game_grid)"
   ]
  },
  {
   "cell_type": "code",
   "execution_count": 45,
   "id": "81a779f7-6734-4b07-9922-984293e0f376",
   "metadata": {},
   "outputs": [],
   "source": [
    "\n",
    "# grid = Grid(6)\n",
    "\n",
    "# print(len(grid.position_grid[0]))\n",
    "# print(len(grid.position_grid))\n",
    "# print(grid.position_grid)\n",
    "\n",
    "\n",
    "# print(grid.game_grid)"
   ]
  },
  {
   "cell_type": "code",
   "execution_count": null,
   "id": "1132381a-9751-4adf-baaa-89c928a4a9cb",
   "metadata": {},
   "outputs": [],
   "source": []
  },
  {
   "cell_type": "code",
   "execution_count": 44,
   "id": "4183b114-692c-478a-96ee-38c451ddbdab",
   "metadata": {},
   "outputs": [],
   "source": [
    "\n",
    "class Game:\n",
    "    active_turn = -1\n",
    "\n",
    "    def __init__(self, grid, players: List[str]):\n",
    "        self.grid = grid\n",
    "        self._game_over = False\n",
    "\n",
    "        \n",
    "        if len(players) == 2:\n",
    "            # TODO: use dictionary instead of list\n",
    "            self._players = [\n",
    "                Player(players[0], -1),  # player 1 is X = -1\n",
    "                Player(players[1], 1),  # player 2 is O = 1\n",
    "            ]\n",
    "        else:\n",
    "            raise ValueError(\"error, there must be only two players\")\n",
    "\n",
    "        # if self.get_dim() > 2:\n",
    "        #     self.init_score_grid()\n",
    "        self.sum_to_win = self.get_width() ** (self.get_dim() // 2)\n",
    "\n",
    "    def init_score_grid(self):\n",
    "        _d = self.get_dim() - 2\n",
    "        _list = []\n",
    "        for _ in range(_d):\n",
    "            _list.append(3)\n",
    "        _tuple = tuple(_list)\n",
    "\n",
    "        self._score_grid = np.zeros(_tuple, dtype=int)\n",
    "\n",
    "    def get_3x3_grid_position(self):\n",
    "        pass\n",
    "        \n",
    "\n",
    "    def get_dim(self):\n",
    "        return self.grid.get_d()\n",
    "\n",
    "    def get_width(self):\n",
    "        return self.grid.get_w()\n",
    "\n",
    "    @property\n",
    "    def score_grid(self):\n",
    "        return self._score_grid\n",
    "\n",
    "    @property\n",
    "    def players(self):\n",
    "        return self._players\n",
    "\n",
    "    @property\n",
    "    def game_over(self):\n",
    "        return self._game_over\n",
    "\n",
    "    def switch_turn(self):\n",
    "        global active_turn\n",
    "        self.active_turn *= -1\n",
    "        return self.active_turn\n",
    "\n",
    "    def get_player(self):\n",
    "        return 0 if self.active_turn == 1 else 1\n",
    "\n",
    "    def play_move(self, x, y):\n",
    "        \"\"\"play move in a 3x3 grid\"\"\"\n",
    "\n",
    "        # check if already placed\n",
    "        if self.grid.grid[x][y] != 0:\n",
    "            # raise ValueError(\"error, already placed\")\n",
    "            # print(\"error, already placed\")\n",
    "            return \"error, already placed\"\n",
    "\n",
    "        active_turn = self.switch_turn()\n",
    "        print(\n",
    "            f\"player {self._players[self.get_player()].name} is placing: {active_turn}\"\n",
    "        )\n",
    "        self.grid.place_mark(x, y, active_turn)\n",
    "        print(self.grid.grid)\n",
    "\n",
    "        check_win = self.check_win()\n",
    "        if check_win:\n",
    "            self._game_over = True\n",
    "\n",
    "        # draw\n",
    "        if 0 not in self.grid.grid and self._game_over is False:\n",
    "            print(\"draw\")\n",
    "            self._game_over = True\n",
    "\n",
    "    def check_all_sums(self):\n",
    "        sums = []\n",
    "        matrix = self.grid.grid\n",
    "\n",
    "        row_sums = np.sum(matrix, axis=1)\n",
    "        col_sums = np.sum(matrix, axis=0)\n",
    "        main_diag_sum = np.trace(matrix)\n",
    "        anti_diag_sum = np.trace(np.fliplr(matrix))\n",
    "\n",
    "        sums.extend(row_sums)\n",
    "        sums.extend(col_sums)\n",
    "        sums.append(main_diag_sum)\n",
    "        sums.append(anti_diag_sum)\n",
    "\n",
    "        return sums\n",
    "\n",
    "    def check_win(self):\n",
    "        all_sum = self.check_all_sums()\n",
    "\n",
    "        if 3 in all_sum:\n",
    "            print(f\"{self.players[1].name} wins\")\n",
    "            return True\n",
    "        elif -3 in all_sum:\n",
    "            print(f\"{self.players[0].name} wins\")\n",
    "            return True\n"
   ]
  },
  {
   "cell_type": "code",
   "execution_count": null,
   "id": "69e89ec4-9ec8-4a19-9d3b-4f6cb7f54a6a",
   "metadata": {},
   "outputs": [],
   "source": []
  },
  {
   "cell_type": "code",
   "execution_count": 51,
   "id": "81470656-b8f3-4301-b7c4-21480591c87b",
   "metadata": {},
   "outputs": [
    {
     "name": "stdout",
     "output_type": "stream",
     "text": [
      "4\n"
     ]
    },
    {
     "ename": "AttributeError",
     "evalue": "'Grid' object has no attribute 'grid'",
     "output_type": "error",
     "traceback": [
      "\u001b[31m---------------------------------------------------------------------------\u001b[39m",
      "\u001b[31mAttributeError\u001b[39m                            Traceback (most recent call last)",
      "\u001b[36mCell\u001b[39m\u001b[36m \u001b[39m\u001b[32mIn[51]\u001b[39m\u001b[32m, line 10\u001b[39m\n\u001b[32m      8\u001b[39m x = random.randrange(\u001b[32m3\u001b[39m)\n\u001b[32m      9\u001b[39m y = random.randrange(\u001b[32m3\u001b[39m)\n\u001b[32m---> \u001b[39m\u001b[32m10\u001b[39m \u001b[43mgame\u001b[49m\u001b[43m.\u001b[49m\u001b[43mplay_move\u001b[49m\u001b[43m(\u001b[49m\u001b[43mx\u001b[49m\u001b[43m,\u001b[49m\u001b[43my\u001b[49m\u001b[43m)\u001b[49m\n",
      "\u001b[36mCell\u001b[39m\u001b[36m \u001b[39m\u001b[32mIn[44]\u001b[39m\u001b[32m, line 65\u001b[39m, in \u001b[36mGame.play_move\u001b[39m\u001b[34m(self, x, y)\u001b[39m\n\u001b[32m     62\u001b[39m \u001b[38;5;250m\u001b[39m\u001b[33;03m\"\"\"play move in a 3x3 grid\"\"\"\u001b[39;00m\n\u001b[32m     64\u001b[39m \u001b[38;5;66;03m# check if already placed\u001b[39;00m\n\u001b[32m---> \u001b[39m\u001b[32m65\u001b[39m \u001b[38;5;28;01mif\u001b[39;00m \u001b[38;5;28;43mself\u001b[39;49m\u001b[43m.\u001b[49m\u001b[43mgrid\u001b[49m\u001b[43m.\u001b[49m\u001b[43mgrid\u001b[49m[x][y] != \u001b[32m0\u001b[39m:\n\u001b[32m     66\u001b[39m     \u001b[38;5;66;03m# raise ValueError(\"error, already placed\")\u001b[39;00m\n\u001b[32m     67\u001b[39m     \u001b[38;5;66;03m# print(\"error, already placed\")\u001b[39;00m\n\u001b[32m     68\u001b[39m     \u001b[38;5;28;01mreturn\u001b[39;00m \u001b[33m\"\u001b[39m\u001b[33merror, already placed\u001b[39m\u001b[33m\"\u001b[39m\n\u001b[32m     70\u001b[39m active_turn = \u001b[38;5;28mself\u001b[39m.switch_turn()\n",
      "\u001b[31mAttributeError\u001b[39m: 'Grid' object has no attribute 'grid'"
     ]
    }
   ],
   "source": [
    "import random\n",
    "\n",
    "grid = Grid(4)\n",
    "game = Game(grid, [\"p1\", \"p2\"]) \n",
    "print(game.get_dim())\n",
    "\n",
    "while game._game_over is False:\n",
    "    x = random.randrange(3)\n",
    "    y = random.randrange(3)\n",
    "    game.play_move(x,y)\n",
    "\n",
    "\n"
   ]
  },
  {
   "cell_type": "code",
   "execution_count": null,
   "id": "1a357cc0-9ef0-445c-af39-25e73b45701f",
   "metadata": {},
   "outputs": [],
   "source": []
  },
  {
   "cell_type": "code",
   "execution_count": null,
   "id": "1b02ae54-9687-4c43-92bb-1ec64a104ccc",
   "metadata": {},
   "outputs": [],
   "source": []
  },
  {
   "cell_type": "code",
   "execution_count": null,
   "id": "57043160-9fc2-4a7a-a676-97f8f2f3bdd9",
   "metadata": {},
   "outputs": [],
   "source": []
  },
  {
   "cell_type": "code",
   "execution_count": null,
   "id": "2e9b31a4-9e8d-4232-9209-991cec44efaf",
   "metadata": {},
   "outputs": [],
   "source": []
  },
  {
   "cell_type": "code",
   "execution_count": null,
   "id": "80c8e2d7-5f6d-4db9-a705-e00b88c92219",
   "metadata": {},
   "outputs": [],
   "source": []
  },
  {
   "cell_type": "code",
   "execution_count": null,
   "id": "654dee49-38ab-477d-b236-26979f5625e0",
   "metadata": {},
   "outputs": [],
   "source": []
  },
  {
   "cell_type": "code",
   "execution_count": null,
   "id": "4007191f-0f1c-4503-9a32-40e0c33cab50",
   "metadata": {},
   "outputs": [],
   "source": []
  },
  {
   "cell_type": "code",
   "execution_count": null,
   "id": "82510c9d-c233-4f09-ab1c-152131ccdd2b",
   "metadata": {},
   "outputs": [],
   "source": []
  },
  {
   "cell_type": "code",
   "execution_count": null,
   "id": "769d89f8-9b9d-40a1-b38f-90e85cdce6fb",
   "metadata": {},
   "outputs": [],
   "source": []
  },
  {
   "cell_type": "code",
   "execution_count": 96,
   "id": "de13fcc5-7740-4086-a91e-fdf61dcadae8",
   "metadata": {},
   "outputs": [
    {
     "name": "stdout",
     "output_type": "stream",
     "text": [
      "[[0 0 0 0 0 0 0 0 0]\n",
      " [0 0 0 0 0 0 0 0 0]\n",
      " [0 0 0 0 0 0 0 0 0]\n",
      " [0 0 0 0 0 0 0 0 0]\n",
      " [0 0 0 0 0 0 0 0 0]\n",
      " [0 0 0 0 0 0 0 0 0]\n",
      " [0 0 0 0 0 0 0 0 0]\n",
      " [0 0 0 0 0 0 0 0 0]\n",
      " [0 0 0 0 0 0 0 0 0]]\n",
      "[[[0 0 0]\n",
      "  [0 0 0]\n",
      "  [0 0 0]]\n",
      "\n",
      " [[0 0 0]\n",
      "  [0 0 0]\n",
      "  [0 0 0]]\n",
      "\n",
      " [[0 0 0]\n",
      "  [0 0 0]\n",
      "  [0 0 0]]]\n"
     ]
    }
   ],
   "source": [
    "\n",
    "grid = Grid(4)\n",
    "\n",
    "print(grid.position_grid)\n",
    "print(grid.game_grid[0])\n",
    "\n"
   ]
  },
  {
   "cell_type": "code",
   "execution_count": null,
   "id": "0cdbd2cb-4451-471d-bad7-f2eb5994c371",
   "metadata": {},
   "outputs": [],
   "source": []
  },
  {
   "cell_type": "code",
   "execution_count": null,
   "id": "7a71d295-fbce-4360-9452-e039a0f9b30a",
   "metadata": {},
   "outputs": [],
   "source": []
  },
  {
   "cell_type": "code",
   "execution_count": null,
   "id": "087450a6-49f5-4d8f-aeb8-15b665aa124e",
   "metadata": {},
   "outputs": [],
   "source": []
  },
  {
   "cell_type": "code",
   "execution_count": null,
   "id": "031734b8-4b83-4ba6-ba4f-f8b709491446",
   "metadata": {},
   "outputs": [],
   "source": []
  },
  {
   "cell_type": "code",
   "execution_count": null,
   "id": "a4c5eee7-0f87-43c0-acec-b92286e00fe6",
   "metadata": {},
   "outputs": [],
   "source": []
  },
  {
   "cell_type": "code",
   "execution_count": null,
   "id": "c3f01380-a73d-49f1-a8a8-c3da8feac5b8",
   "metadata": {},
   "outputs": [],
   "source": []
  },
  {
   "cell_type": "code",
   "execution_count": null,
   "id": "a485b74f-f978-4727-9fd0-a6f959136529",
   "metadata": {},
   "outputs": [],
   "source": []
  }
 ],
 "metadata": {
  "kernelspec": {
   "display_name": "Python 3 (ipykernel)",
   "language": "python",
   "name": "python3"
  },
  "language_info": {
   "codemirror_mode": {
    "name": "ipython",
    "version": 3
   },
   "file_extension": ".py",
   "mimetype": "text/x-python",
   "name": "python",
   "nbconvert_exporter": "python",
   "pygments_lexer": "ipython3",
   "version": "3.12.4"
  }
 },
 "nbformat": 4,
 "nbformat_minor": 5
}
