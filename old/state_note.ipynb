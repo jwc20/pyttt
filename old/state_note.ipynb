{
 "cells": [
  {
   "cell_type": "code",
   "execution_count": 10,
   "id": "6e3c6003",
   "metadata": {},
   "outputs": [],
   "source": [
    "# https://youtu.be/5OzLrbk82zY?si=tdfR2q0N1mPRT-qa\n",
    "\n",
    "from typing import Protocol"
   ]
  },
  {
   "cell_type": "code",
   "execution_count": 11,
   "id": "7c13a6a8",
   "metadata": {},
   "outputs": [],
   "source": [
    "class LightState(Protocol):\n",
    "    \"\"\"\n",
    "    the state interface for Light\n",
    "    \"\"\"\n",
    "    def switch(self, bulb):\n",
    "        pass"
   ]
  },
  {
   "cell_type": "code",
   "execution_count": 15,
   "id": "91130fa8",
   "metadata": {},
   "outputs": [],
   "source": [
    "\"\"\"\n",
    "concrete states\n",
    "\n",
    "- on state\n",
    "- off state\n",
    "\"\"\"\n",
    "\n",
    "class OnState:\n",
    "    def switch(self, bulb):\n",
    "        bulb.state = OffState()\n",
    "        print(\"the light is off\")\n",
    "\n",
    "\n",
    "class OffState:\n",
    "    def switch(self, bulb):\n",
    "        bulb.state = OnState()\n",
    "        print(\"the light is on\")"
   ]
  },
  {
   "cell_type": "code",
   "execution_count": 13,
   "id": "e9d264aa",
   "metadata": {},
   "outputs": [],
   "source": [
    "class Bulb:\n",
    "    \"\"\"Context\"\"\" \n",
    "    def __init__(self): \n",
    "        self.state = OnState()\n",
    "\n",
    "    def switch(self):\n",
    "        self.state.switch(self)"
   ]
  },
  {
   "cell_type": "code",
   "execution_count": 14,
   "id": "a6ba7f7a",
   "metadata": {},
   "outputs": [
    {
     "name": "stdout",
     "output_type": "stream",
     "text": [
      "the light is off\n",
      "the light is on\n",
      "the light is off\n",
      "the light is on\n"
     ]
    }
   ],
   "source": [
    "def main():\n",
    "    bulb = Bulb()\n",
    "    bulb.switch()\n",
    "    bulb.switch()\n",
    "    bulb.switch()\n",
    "    bulb.switch()\n",
    "\n",
    "\n",
    "main()"
   ]
  },
  {
   "cell_type": "code",
   "execution_count": null,
   "id": "7e361ce0",
   "metadata": {},
   "outputs": [],
   "source": []
  },
  {
   "cell_type": "code",
   "execution_count": null,
   "id": "648eb45a",
   "metadata": {},
   "outputs": [],
   "source": []
  }
 ],
 "metadata": {
  "kernelspec": {
   "display_name": "Python 3 (ipykernel)",
   "language": "python",
   "name": "python3"
  },
  "language_info": {
   "codemirror_mode": {
    "name": "ipython",
    "version": 3
   },
   "file_extension": ".py",
   "mimetype": "text/x-python",
   "name": "python",
   "nbconvert_exporter": "python",
   "pygments_lexer": "ipython3",
   "version": "3.12.4"
  }
 },
 "nbformat": 4,
 "nbformat_minor": 5
}
