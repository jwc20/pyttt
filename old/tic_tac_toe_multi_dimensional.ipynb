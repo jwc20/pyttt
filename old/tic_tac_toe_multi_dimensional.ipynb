{
 "cells": [
  {
   "cell_type": "markdown",
   "id": "cf4e8a18-20fe-4d5a-ab2b-da5afa265a76",
   "metadata": {},
   "source": [
    "# Multi-dimensional ttt (ultimate ttt rules)"
   ]
  },
  {
   "cell_type": "code",
   "execution_count": 1,
   "id": "8f44798f-4791-4837-8966-3ed56614cbf6",
   "metadata": {},
   "outputs": [],
   "source": [
    "import numpy as np\n",
    "from typing import List\n"
   ]
  },
  {
   "cell_type": "code",
   "execution_count": 61,
   "id": "3183374b-6003-48de-8442-56f2784550e2",
   "metadata": {},
   "outputs": [],
   "source": [
    "class Grid:\n",
    "    def __init__(self, d):\n",
    "        self.w = 3\n",
    "        self.d = d\n",
    "        self._grid = None\n",
    "        self.init_grid()\n",
    "\n",
    "    def init_grid(self):\n",
    "        _tuple = tuple([self.w for _ in range(self.d)])\n",
    "        self._grid = np.zeros(_tuple, dtype=int)\n",
    "\n",
    "    @property\n",
    "    def grid(self):\n",
    "        return self._grid\n",
    "\n",
    "    def get_w(self):\n",
    "        return self.w\n",
    "\n",
    "    def get_d(self):\n",
    "        return self.d\n",
    "\n",
    "    def is_valid_position(self, x, y):\n",
    "        return 0 <= x < self.w and 0 <= y < self.w\n",
    "\n",
    "    def place_mark(self, x, y, value):\n",
    "        if self._grid is None:\n",
    "            raise ValueError(\"Grid is not initialized\")\n",
    "\n",
    "        if not self.is_valid_position(x, y):\n",
    "            raise ValueError(f\"Position ({x}, {y}) is out of bounds. Valid range: 0-{self.w-1}\")\n",
    "\n",
    "        self._grid[x][y] = value\n"
   ]
  },
  {
   "cell_type": "code",
   "execution_count": 62,
   "id": "9ec5978a-a1d9-4259-8a9a-d8a7b2662d73",
   "metadata": {},
   "outputs": [],
   "source": [
    "class Player:\n",
    "    def __init__(self, name, mark):\n",
    "        self._name = name\n",
    "        self._mark = mark\n",
    "\n",
    "    @property\n",
    "    def name(self):\n",
    "        return self._name\n",
    "\n",
    "    @property\n",
    "    def mark(self):\n",
    "        return self._mark\n"
   ]
  },
  {
   "cell_type": "code",
   "execution_count": 79,
   "id": "10e7696f-8cba-44b1-bedd-32b23f2802c2",
   "metadata": {},
   "outputs": [],
   "source": [
    "class Game:\n",
    "    active_turn = -1\n",
    "\n",
    "    def __init__(self, grid, players: List[str]):\n",
    "        self._grid = grid\n",
    "        self._score_grid = None\n",
    "        self._game_over = False\n",
    "        if len(players) == 2:\n",
    "            self._players = [\n",
    "                Player(players[0], -1),  # player 1 is X = -1\n",
    "                Player(players[1], 1),  # player 2 is O = 1\n",
    "            ]\n",
    "        else:\n",
    "            raise ValueError(\"error, there must be only two players\")\n",
    "\n",
    "        # if self.get_dim() > 2:\n",
    "        #     self.init_score_grid()\n",
    "        self.sum_to_win = self.get_width() ** (self.get_dim() // 2)\n",
    "\n",
    "    def init_score_grid(self):\n",
    "        _d = self.get_dim() - 2\n",
    "        _list = []\n",
    "        for _ in range(_d):\n",
    "            _list.append(3)\n",
    "        _tuple = tuple(_list)\n",
    "\n",
    "        self._score_grid = np.zeros(_tuple, dtype=int)\n",
    "\n",
    "    def get_dim(self):\n",
    "        return self._grid.get_d()\n",
    "\n",
    "    def get_width(self):\n",
    "        return self._grid.get_w()\n",
    "\n",
    "    # @property\n",
    "    # def score_grid(self):\n",
    "    #     return self._score_grid\n",
    "\n",
    "    @property\n",
    "    def players(self):\n",
    "        return self._players\n",
    "\n",
    "    @property\n",
    "    def game_over(self):\n",
    "        return self._game_over\n",
    "\n",
    "    def switch_turn(self):\n",
    "        global active_turn\n",
    "        self.active_turn *= -1\n",
    "        return self.active_turn\n",
    "\n",
    "    def get_player(self):\n",
    "        return 0 if self.active_turn == 1 else 1\n",
    "\n",
    "    def play_move(self, x, y):\n",
    "        \"\"\"play move in a 3x3 grid\"\"\"\n",
    "\n",
    "        # check if already placed\n",
    "        if self._grid.grid[x][y] != 0:\n",
    "            # raise ValueError(\"error, already placed\")\n",
    "            # print(\"error, already placed\")\n",
    "            return \"error, already placed\"\n",
    "\n",
    "        active_turn = self.switch_turn()\n",
    "        print(\n",
    "            f\"player {self._players[self.get_player()].name} is placing: {active_turn}\"\n",
    "        )\n",
    "        self._grid.place_mark(x, y, active_turn)\n",
    "        print(self._grid.grid)\n",
    "\n",
    "        check_win = self.check_win()\n",
    "        if check_win:\n",
    "            self._game_over = True\n",
    "\n",
    "        # draw\n",
    "        if 0 not in self._grid.grid and self._game_over is False:\n",
    "            print(\"draw\")\n",
    "            self._game_over = True\n",
    "\n",
    "    def check_all_sums(self):\n",
    "        sums = []\n",
    "        matrix = self._grid.grid\n",
    "\n",
    "        row_sums = np.sum(matrix, axis=1)\n",
    "        col_sums = np.sum(matrix, axis=0)\n",
    "        main_diag_sum = np.trace(matrix)\n",
    "        anti_diag_sum = np.trace(np.fliplr(matrix))\n",
    "\n",
    "        sums.extend(row_sums)\n",
    "        sums.extend(col_sums)\n",
    "        sums.append(main_diag_sum)\n",
    "        sums.append(anti_diag_sum)\n",
    "\n",
    "        return sums\n",
    "\n",
    "    def check_win(self):\n",
    "        all_sum = self.check_all_sums()\n",
    "\n",
    "        if 3 in all_sum:\n",
    "            print(f\"{self.players[1].name} wins\")\n",
    "            return True\n",
    "        elif -3 in all_sum:\n",
    "            print(f\"{self.players[0].name} wins\")\n",
    "            return True\n"
   ]
  },
  {
   "cell_type": "code",
   "execution_count": 90,
   "id": "f6da457a-51f7-4dbc-9d12-834e5069f85a",
   "metadata": {},
   "outputs": [
    {
     "name": "stdout",
     "output_type": "stream",
     "text": [
      "6\n",
      "3\n",
      "27\n"
     ]
    }
   ],
   "source": [
    "\n",
    "# 3 ^ 6 game\n",
    "# dimension = 6\n",
    "\n",
    "grid = Grid(6)\n",
    "game = Game(grid, [\"p1\", \"p2\"]) \n",
    "print(game.get_dim())\n",
    "print(game.get_width())\n",
    "print(game.sum_to_win)\n",
    "\n",
    "# while game._game_over is False:\n",
    "#     x = random.randrange(3)\n",
    "#     y = random.randrange(3)\n",
    "#     game.play_move(x,y)\n"
   ]
  },
  {
   "cell_type": "code",
   "execution_count": 105,
   "id": "6a19f384-9597-40cd-bf81-895b3e40b92a",
   "metadata": {},
   "outputs": [
    {
     "name": "stdout",
     "output_type": "stream",
     "text": [
      "[[0. 0. 0.]\n",
      " [0. 0. 0.]\n",
      " [0. 0. 0.]]\n"
     ]
    }
   ],
   "source": [
    "score_grid_4 = np.zeros((3,3)) \n",
    "print(score_grid_4)"
   ]
  },
  {
   "cell_type": "code",
   "execution_count": 92,
   "id": "7bf7caa0-664e-4b04-bb04-b59fe193a3a9",
   "metadata": {},
   "outputs": [
    {
     "name": "stdout",
     "output_type": "stream",
     "text": [
      "[[0. 0. 0. 0. 0. 0. 0. 0. 0.]\n",
      " [0. 0. 0. 0. 0. 0. 0. 0. 0.]\n",
      " [0. 0. 0. 0. 0. 0. 0. 0. 0.]\n",
      " [0. 0. 0. 0. 0. 0. 0. 0. 0.]\n",
      " [0. 0. 0. 0. 0. 0. 0. 0. 0.]\n",
      " [0. 0. 0. 0. 0. 0. 0. 0. 0.]\n",
      " [0. 0. 0. 0. 0. 0. 0. 0. 0.]\n",
      " [0. 0. 0. 0. 0. 0. 0. 0. 0.]\n",
      " [0. 0. 0. 0. 0. 0. 0. 0. 0.]]\n"
     ]
    }
   ],
   "source": [
    "score_grid_6 = np.zeros((9,9)) \n",
    "print(score_grid_6)"
   ]
  },
  {
   "cell_type": "code",
   "execution_count": 131,
   "id": "bea30e2e-808b-4da8-8d9b-546f4180fcd3",
   "metadata": {},
   "outputs": [],
   "source": [
    "def get_score_grid(w,d):\n",
    "    n = 3**(d//2 - 1)\n",
    "    print(f\"{n}x{n} matrix\")\n",
    "    score_grid_d = np.zeros((n, n)) \n",
    "    return score_grid_d\n"
   ]
  },
  {
   "cell_type": "code",
   "execution_count": 132,
   "id": "b2846ce9-f1fe-4ed0-9765-450a6016523c",
   "metadata": {},
   "outputs": [
    {
     "name": "stdout",
     "output_type": "stream",
     "text": [
      "3x3 matrix\n",
      "[[0. 0. 0.]\n",
      " [0. 0. 0.]\n",
      " [0. 0. 0.]]\n"
     ]
    }
   ],
   "source": [
    "w = 3\n",
    "d4 = 4\n",
    "print(get_score_grid(w,d4))"
   ]
  },
  {
   "cell_type": "code",
   "execution_count": 133,
   "id": "0b5e8b27-bf33-4ef1-bed9-30ec64722aa1",
   "metadata": {},
   "outputs": [
    {
     "name": "stdout",
     "output_type": "stream",
     "text": [
      "9x9 matrix\n",
      "[[0. 0. 0. 0. 0. 0. 0. 0. 0.]\n",
      " [0. 0. 0. 0. 0. 0. 0. 0. 0.]\n",
      " [0. 0. 0. 0. 0. 0. 0. 0. 0.]\n",
      " [0. 0. 0. 0. 0. 0. 0. 0. 0.]\n",
      " [0. 0. 0. 0. 0. 0. 0. 0. 0.]\n",
      " [0. 0. 0. 0. 0. 0. 0. 0. 0.]\n",
      " [0. 0. 0. 0. 0. 0. 0. 0. 0.]\n",
      " [0. 0. 0. 0. 0. 0. 0. 0. 0.]\n",
      " [0. 0. 0. 0. 0. 0. 0. 0. 0.]]\n"
     ]
    }
   ],
   "source": [
    "d6 = 6\n",
    "print(get_score_grid(w,d6))"
   ]
  },
  {
   "cell_type": "code",
   "execution_count": 139,
   "id": "c2f9ce59-ca9d-42fe-ade4-f6ee25db239f",
   "metadata": {},
   "outputs": [
    {
     "name": "stdout",
     "output_type": "stream",
     "text": [
      "[[ 0  1  2  3  4  5  6  7  8]\n",
      " [ 9 10 11 12 13 14 15 16 17]\n",
      " [18 19 20 21 22 23 24 25 26]\n",
      " [27 28 29 30 31 32 33 34 35]\n",
      " [36 37 38 39 40 41 42 43 44]\n",
      " [45 46 47 48 49 50 51 52 53]\n",
      " [54 55 56 57 58 59 60 61 62]\n",
      " [63 64 65 66 67 68 69 70 71]\n",
      " [72 73 74 75 76 77 78 79 80]]\n"
     ]
    }
   ],
   "source": [
    "# dimension 6\n",
    "print(np.arange(81).reshape(9, 9))"
   ]
  },
  {
   "cell_type": "code",
   "execution_count": 138,
   "id": "dadbfe00-19b5-4637-bbf7-51b4caa0a0a4",
   "metadata": {
    "scrolled": true
   },
   "outputs": [
    {
     "name": "stdout",
     "output_type": "stream",
     "text": [
      "27x27 matrix\n",
      "[[0. 0. 0. 0. 0. 0. 0. 0. 0. 0. 0. 0. 0. 0. 0. 0. 0. 0. 0. 0. 0. 0. 0. 0.\n",
      "  0. 0. 0.]\n",
      " [0. 0. 0. 0. 0. 0. 0. 0. 0. 0. 0. 0. 0. 0. 0. 0. 0. 0. 0. 0. 0. 0. 0. 0.\n",
      "  0. 0. 0.]\n",
      " [0. 0. 0. 0. 0. 0. 0. 0. 0. 0. 0. 0. 0. 0. 0. 0. 0. 0. 0. 0. 0. 0. 0. 0.\n",
      "  0. 0. 0.]\n",
      " [0. 0. 0. 0. 0. 0. 0. 0. 0. 0. 0. 0. 0. 0. 0. 0. 0. 0. 0. 0. 0. 0. 0. 0.\n",
      "  0. 0. 0.]\n",
      " [0. 0. 0. 0. 0. 0. 0. 0. 0. 0. 0. 0. 0. 0. 0. 0. 0. 0. 0. 0. 0. 0. 0. 0.\n",
      "  0. 0. 0.]\n",
      " [0. 0. 0. 0. 0. 0. 0. 0. 0. 0. 0. 0. 0. 0. 0. 0. 0. 0. 0. 0. 0. 0. 0. 0.\n",
      "  0. 0. 0.]\n",
      " [0. 0. 0. 0. 0. 0. 0. 0. 0. 0. 0. 0. 0. 0. 0. 0. 0. 0. 0. 0. 0. 0. 0. 0.\n",
      "  0. 0. 0.]\n",
      " [0. 0. 0. 0. 0. 0. 0. 0. 0. 0. 0. 0. 0. 0. 0. 0. 0. 0. 0. 0. 0. 0. 0. 0.\n",
      "  0. 0. 0.]\n",
      " [0. 0. 0. 0. 0. 0. 0. 0. 0. 0. 0. 0. 0. 0. 0. 0. 0. 0. 0. 0. 0. 0. 0. 0.\n",
      "  0. 0. 0.]\n",
      " [0. 0. 0. 0. 0. 0. 0. 0. 0. 0. 0. 0. 0. 0. 0. 0. 0. 0. 0. 0. 0. 0. 0. 0.\n",
      "  0. 0. 0.]\n",
      " [0. 0. 0. 0. 0. 0. 0. 0. 0. 0. 0. 0. 0. 0. 0. 0. 0. 0. 0. 0. 0. 0. 0. 0.\n",
      "  0. 0. 0.]\n",
      " [0. 0. 0. 0. 0. 0. 0. 0. 0. 0. 0. 0. 0. 0. 0. 0. 0. 0. 0. 0. 0. 0. 0. 0.\n",
      "  0. 0. 0.]\n",
      " [0. 0. 0. 0. 0. 0. 0. 0. 0. 0. 0. 0. 0. 0. 0. 0. 0. 0. 0. 0. 0. 0. 0. 0.\n",
      "  0. 0. 0.]\n",
      " [0. 0. 0. 0. 0. 0. 0. 0. 0. 0. 0. 0. 0. 0. 0. 0. 0. 0. 0. 0. 0. 0. 0. 0.\n",
      "  0. 0. 0.]\n",
      " [0. 0. 0. 0. 0. 0. 0. 0. 0. 0. 0. 0. 0. 0. 0. 0. 0. 0. 0. 0. 0. 0. 0. 0.\n",
      "  0. 0. 0.]\n",
      " [0. 0. 0. 0. 0. 0. 0. 0. 0. 0. 0. 0. 0. 0. 0. 0. 0. 0. 0. 0. 0. 0. 0. 0.\n",
      "  0. 0. 0.]\n",
      " [0. 0. 0. 0. 0. 0. 0. 0. 0. 0. 0. 0. 0. 0. 0. 0. 0. 0. 0. 0. 0. 0. 0. 0.\n",
      "  0. 0. 0.]\n",
      " [0. 0. 0. 0. 0. 0. 0. 0. 0. 0. 0. 0. 0. 0. 0. 0. 0. 0. 0. 0. 0. 0. 0. 0.\n",
      "  0. 0. 0.]\n",
      " [0. 0. 0. 0. 0. 0. 0. 0. 0. 0. 0. 0. 0. 0. 0. 0. 0. 0. 0. 0. 0. 0. 0. 0.\n",
      "  0. 0. 0.]\n",
      " [0. 0. 0. 0. 0. 0. 0. 0. 0. 0. 0. 0. 0. 0. 0. 0. 0. 0. 0. 0. 0. 0. 0. 0.\n",
      "  0. 0. 0.]\n",
      " [0. 0. 0. 0. 0. 0. 0. 0. 0. 0. 0. 0. 0. 0. 0. 0. 0. 0. 0. 0. 0. 0. 0. 0.\n",
      "  0. 0. 0.]\n",
      " [0. 0. 0. 0. 0. 0. 0. 0. 0. 0. 0. 0. 0. 0. 0. 0. 0. 0. 0. 0. 0. 0. 0. 0.\n",
      "  0. 0. 0.]\n",
      " [0. 0. 0. 0. 0. 0. 0. 0. 0. 0. 0. 0. 0. 0. 0. 0. 0. 0. 0. 0. 0. 0. 0. 0.\n",
      "  0. 0. 0.]\n",
      " [0. 0. 0. 0. 0. 0. 0. 0. 0. 0. 0. 0. 0. 0. 0. 0. 0. 0. 0. 0. 0. 0. 0. 0.\n",
      "  0. 0. 0.]\n",
      " [0. 0. 0. 0. 0. 0. 0. 0. 0. 0. 0. 0. 0. 0. 0. 0. 0. 0. 0. 0. 0. 0. 0. 0.\n",
      "  0. 0. 0.]\n",
      " [0. 0. 0. 0. 0. 0. 0. 0. 0. 0. 0. 0. 0. 0. 0. 0. 0. 0. 0. 0. 0. 0. 0. 0.\n",
      "  0. 0. 0.]\n",
      " [0. 0. 0. 0. 0. 0. 0. 0. 0. 0. 0. 0. 0. 0. 0. 0. 0. 0. 0. 0. 0. 0. 0. 0.\n",
      "  0. 0. 0.]]\n"
     ]
    }
   ],
   "source": [
    "d8 = 8\n",
    "print(get_score_grid(w,d8))"
   ]
  },
  {
   "cell_type": "code",
   "execution_count": 135,
   "id": "2df3b0e0-18ce-4076-8a35-013ce8926f67",
   "metadata": {},
   "outputs": [
    {
     "name": "stdout",
     "output_type": "stream",
     "text": [
      "81x81 matrix\n",
      "[[0. 0. 0. ... 0. 0. 0.]\n",
      " [0. 0. 0. ... 0. 0. 0.]\n",
      " [0. 0. 0. ... 0. 0. 0.]\n",
      " ...\n",
      " [0. 0. 0. ... 0. 0. 0.]\n",
      " [0. 0. 0. ... 0. 0. 0.]\n",
      " [0. 0. 0. ... 0. 0. 0.]]\n"
     ]
    }
   ],
   "source": [
    "d10 = 10\n",
    "print(get_score_grid(w,d10))"
   ]
  },
  {
   "cell_type": "code",
   "execution_count": null,
   "id": "d8cf7c4a-adfd-4d57-90f0-0e52a2540ed4",
   "metadata": {},
   "outputs": [],
   "source": []
  },
  {
   "cell_type": "code",
   "execution_count": null,
   "id": "30e58a8d-7d9d-4afc-af41-be09a9c01be5",
   "metadata": {},
   "outputs": [],
   "source": []
  },
  {
   "cell_type": "code",
   "execution_count": 140,
   "id": "dc32cd1a-ea29-4683-8b7b-c022aa40a147",
   "metadata": {},
   "outputs": [],
   "source": [
    "def get_score_grid(w,d):\n",
    "    n = w**(d//2 - 1)\n",
    "    print(f\"{n}x{n} matrix\")\n",
    "    score_grid_d = np.zeros((n, n)) \n",
    "    return score_grid_d\n",
    "\n",
    "\n",
    "\n",
    "def show_index_score_grid(w,d):\n",
    "    n = w**(d//2 - 1)\n",
    "    num_of_grids = n * n\n",
    "    matrix = np.arange(num_of_grids).reshape(n, n)\n",
    "    return matrix\n"
   ]
  },
  {
   "cell_type": "code",
   "execution_count": 141,
   "id": "8afe5d3e-f452-45a0-bd54-dfb3fbaa4dea",
   "metadata": {},
   "outputs": [
    {
     "name": "stdout",
     "output_type": "stream",
     "text": [
      "3x3 matrix\n",
      "[[0. 0. 0.]\n",
      " [0. 0. 0.]\n",
      " [0. 0. 0.]]\n",
      "[[0 1 2]\n",
      " [3 4 5]\n",
      " [6 7 8]]\n"
     ]
    }
   ],
   "source": [
    "w = 3\n",
    "d4 = 4 \n",
    "\n",
    "\n",
    "print(get_score_grid(w, d4))\n",
    "print(show_index_score_grid(w, d4))\n"
   ]
  },
  {
   "cell_type": "code",
   "execution_count": 142,
   "id": "e6027fad-310a-438b-8de1-364144758948",
   "metadata": {},
   "outputs": [
    {
     "name": "stdout",
     "output_type": "stream",
     "text": [
      "9x9 matrix\n",
      "[[0. 0. 0. 0. 0. 0. 0. 0. 0.]\n",
      " [0. 0. 0. 0. 0. 0. 0. 0. 0.]\n",
      " [0. 0. 0. 0. 0. 0. 0. 0. 0.]\n",
      " [0. 0. 0. 0. 0. 0. 0. 0. 0.]\n",
      " [0. 0. 0. 0. 0. 0. 0. 0. 0.]\n",
      " [0. 0. 0. 0. 0. 0. 0. 0. 0.]\n",
      " [0. 0. 0. 0. 0. 0. 0. 0. 0.]\n",
      " [0. 0. 0. 0. 0. 0. 0. 0. 0.]\n",
      " [0. 0. 0. 0. 0. 0. 0. 0. 0.]]\n",
      "[[ 0  1  2  3  4  5  6  7  8]\n",
      " [ 9 10 11 12 13 14 15 16 17]\n",
      " [18 19 20 21 22 23 24 25 26]\n",
      " [27 28 29 30 31 32 33 34 35]\n",
      " [36 37 38 39 40 41 42 43 44]\n",
      " [45 46 47 48 49 50 51 52 53]\n",
      " [54 55 56 57 58 59 60 61 62]\n",
      " [63 64 65 66 67 68 69 70 71]\n",
      " [72 73 74 75 76 77 78 79 80]]\n"
     ]
    }
   ],
   "source": [
    "w = 3\n",
    "d6 = 6\n",
    "print(get_score_grid(w, d6))\n",
    "print(show_index_score_grid(w, d6))\n"
   ]
  },
  {
   "cell_type": "code",
   "execution_count": 144,
   "id": "6be044ee-abd8-4120-ab1e-df8039f6f734",
   "metadata": {
    "scrolled": true
   },
   "outputs": [],
   "source": [
    "w = 3\n",
    "d8 = 8\n",
    "# print(get_score_grid(w, d8))\n",
    "# print(show_index_score_grid(w, d8))\n"
   ]
  },
  {
   "cell_type": "code",
   "execution_count": null,
   "id": "9c60d72c-21bc-4b25-a8fe-b3e04b3cc2a9",
   "metadata": {},
   "outputs": [],
   "source": []
  },
  {
   "cell_type": "code",
   "execution_count": null,
   "id": "4dc07edc-1aa6-4aa0-9151-78cc4b121e34",
   "metadata": {},
   "outputs": [],
   "source": []
  },
  {
   "cell_type": "markdown",
   "id": "35cc6d80-5303-4fc5-a2ca-4ba6795b4925",
   "metadata": {},
   "source": [
    "# -----------------------------------------------------------------\n",
    "\n",
    "## 2025-07-11, Friday"
   ]
  },
  {
   "cell_type": "code",
   "execution_count": 192,
   "id": "b12fea67-5d8f-43c9-bcb1-5081dc9b9bc8",
   "metadata": {},
   "outputs": [],
   "source": [
    "\n",
    "class Player:\n",
    "    def __init__(self, name, mark):\n",
    "        self._name = name\n",
    "        self._mark = mark\n",
    "\n",
    "    @property\n",
    "    def name(self):\n",
    "        return self._name\n",
    "\n",
    "    @property\n",
    "    def mark(self):\n",
    "        return self._mark\n"
   ]
  },
  {
   "cell_type": "code",
   "execution_count": 214,
   "id": "a72027e4-e21d-4b49-a941-02711a91a298",
   "metadata": {},
   "outputs": [],
   "source": [
    "import numpy as np\n",
    "from typing import List\n",
    "\n",
    "class Grid:\n",
    "    def __init__(self, d):\n",
    "        self.w = 3\n",
    "        self.d = d\n",
    "        self._grid = None\n",
    "        self._score_grid = None\n",
    "        self.init_grid()\n",
    "        self.init_score_grid()\n",
    "\n",
    "    def init_grid(self):\n",
    "        \"\"\"\n",
    "        init grid of zeros depending on the dimension\n",
    "\n",
    "        ex: \n",
    "            - self.d = 2 => _tuple = (3,3)\n",
    "            - self.d = 4 => _tuple = (3,3,3,3)\n",
    "        \"\"\"\n",
    "        _tuple = tuple([self.w for _ in range(self.d)])\n",
    "        self._grid = np.zeros(_tuple, dtype=int)\n",
    "\n",
    "    @property\n",
    "    def grid(self):\n",
    "        return self._grid\n",
    "\n",
    "    def get_w(self):\n",
    "        return self.w\n",
    "\n",
    "    def get_d(self):\n",
    "        return self.d\n",
    "\n",
    "    def is_valid_position(self, x, y):\n",
    "        return 0 <= x < self.w and 0 <= y < self.w\n",
    "\n",
    "    def place_mark(self, x, y, value):\n",
    "        if self._grid is None:\n",
    "            raise ValueError(\"Grid is not initialized\")\n",
    "\n",
    "        if not self.is_valid_position(x, y):\n",
    "            raise ValueError(f\"Position ({x}, {y}) is out of bounds. Valid range: 0-{self.w-1}\")\n",
    "\n",
    "        self._grid[x][y] = value\n",
    "\n",
    "    \n",
    "    def init_score_grid(self):\n",
    "        n = self.w ** (self.d // 2 - 1)\n",
    "        print(f\"{n}x{n} matrix\")\n",
    "        score_grid_d = np.zeros((n, n)) \n",
    "        self._score_grid = score_grid_d\n",
    "\n",
    "\n",
    "    def show_index_grid(self):\n",
    "        \"\"\" get matrix of 3x3 grids \"\"\"\n",
    "        n = self.w ** (self.d // 2 - 1)\n",
    "        num_of_grids = n * n\n",
    "        matrix = np.arange(num_of_grids).reshape(n, n)\n",
    "        return matrix\n",
    "\n",
    "    @property\n",
    "    def score_grid(self):\n",
    "        return self._score_grid\n",
    "\n"
   ]
  },
  {
   "cell_type": "code",
   "execution_count": 217,
   "id": "f89a1714-7fc6-4ef5-87ab-ca2b78627446",
   "metadata": {},
   "outputs": [
    {
     "name": "stdout",
     "output_type": "stream",
     "text": [
      "3x3 matrix\n",
      "[[0. 0. 0.]\n",
      " [0. 0. 0.]\n",
      " [0. 0. 0.]]\n",
      "[[0 1 2]\n",
      " [3 4 5]\n",
      " [6 7 8]]\n"
     ]
    }
   ],
   "source": [
    "\n",
    "\n",
    "grid = Grid(4)\n",
    "\n",
    "# print(grid)\n",
    "print(grid.score_grid)\n",
    "\n",
    "print(grid.show_index_grid())\n",
    "\n"
   ]
  },
  {
   "cell_type": "code",
   "execution_count": 223,
   "id": "0105c7f2-bdcb-48d6-9990-25fc2947991f",
   "metadata": {},
   "outputs": [],
   "source": [
    "\n",
    "class Game:\n",
    "    active_turn = -1\n",
    "\n",
    "    def __init__(self, grid, players: List[str]):\n",
    "        self.grid = grid\n",
    "        self._game_over = False\n",
    "\n",
    "        \n",
    "        if len(players) == 2:\n",
    "            # TODO: use dictionary instead of list\n",
    "            self._players = [\n",
    "                Player(players[0], -1),  # player 1 is X = -1\n",
    "                Player(players[1], 1),  # player 2 is O = 1\n",
    "            ]\n",
    "        else:\n",
    "            raise ValueError(\"error, there must be only two players\")\n",
    "\n",
    "        # if self.get_dim() > 2:\n",
    "        #     self.init_score_grid()\n",
    "        self.sum_to_win = self.get_width() ** (self.get_dim() // 2)\n",
    "\n",
    "    def init_score_grid(self):\n",
    "        _d = self.get_dim() - 2\n",
    "        _list = []\n",
    "        for _ in range(_d):\n",
    "            _list.append(3)\n",
    "        _tuple = tuple(_list)\n",
    "\n",
    "        self._score_grid = np.zeros(_tuple, dtype=int)\n",
    "\n",
    "    def get_3x3_grid_position(self):\n",
    "        pass\n",
    "        \n",
    "\n",
    "    def get_dim(self):\n",
    "        return self.grid.get_d()\n",
    "\n",
    "    def get_width(self):\n",
    "        return self.grid.get_w()\n",
    "\n",
    "    @property\n",
    "    def score_grid(self):\n",
    "        return self._score_grid\n",
    "\n",
    "    @property\n",
    "    def players(self):\n",
    "        return self._players\n",
    "\n",
    "    @property\n",
    "    def game_over(self):\n",
    "        return self._game_over\n",
    "\n",
    "    def switch_turn(self):\n",
    "        global active_turn\n",
    "        self.active_turn *= -1\n",
    "        return self.active_turn\n",
    "\n",
    "    def get_player(self):\n",
    "        return 0 if self.active_turn == 1 else 1\n",
    "\n",
    "    def play_move(self, x, y):\n",
    "        \"\"\"play move in a 3x3 grid\"\"\"\n",
    "\n",
    "        # check if already placed\n",
    "        if self.grid.grid[x][y] != 0:\n",
    "            # raise ValueError(\"error, already placed\")\n",
    "            # print(\"error, already placed\")\n",
    "            return \"error, already placed\"\n",
    "\n",
    "        active_turn = self.switch_turn()\n",
    "        print(\n",
    "            f\"player {self._players[self.get_player()].name} is placing: {active_turn}\"\n",
    "        )\n",
    "        self.grid.place_mark(x, y, active_turn)\n",
    "        print(self.grid.grid)\n",
    "\n",
    "        check_win = self.check_win()\n",
    "        if check_win:\n",
    "            self._game_over = True\n",
    "\n",
    "        # draw\n",
    "        if 0 not in self.grid.grid and self._game_over is False:\n",
    "            print(\"draw\")\n",
    "            self._game_over = True\n",
    "\n",
    "    def check_all_sums(self):\n",
    "        sums = []\n",
    "        matrix = self.grid.grid\n",
    "\n",
    "        row_sums = np.sum(matrix, axis=1)\n",
    "        col_sums = np.sum(matrix, axis=0)\n",
    "        main_diag_sum = np.trace(matrix)\n",
    "        anti_diag_sum = np.trace(np.fliplr(matrix))\n",
    "\n",
    "        sums.extend(row_sums)\n",
    "        sums.extend(col_sums)\n",
    "        sums.append(main_diag_sum)\n",
    "        sums.append(anti_diag_sum)\n",
    "\n",
    "        return sums\n",
    "\n",
    "    def check_win(self):\n",
    "        all_sum = self.check_all_sums()\n",
    "\n",
    "        if 3 in all_sum:\n",
    "            print(f\"{self.players[1].name} wins\")\n",
    "            return True\n",
    "        elif -3 in all_sum:\n",
    "            print(f\"{self.players[0].name} wins\")\n",
    "            return True\n"
   ]
  },
  {
   "cell_type": "code",
   "execution_count": 209,
   "id": "1b1d7c0a-e21b-4ad9-a26d-4da3f9ec7687",
   "metadata": {},
   "outputs": [
    {
     "name": "stdout",
     "output_type": "stream",
     "text": [
      "[[1, 2], [3, 4], [5, 6]]\n",
      "[1, 2, 3, 4, 5, 6]\n"
     ]
    }
   ],
   "source": [
    "matrix = np.array([[1, 2], [3, 4], [5, 6]])\n",
    "\n",
    "list_result = matrix.tolist()\n",
    "print(list_result)\n",
    "\n",
    "result = matrix.flatten().tolist()\n",
    "print(result)"
   ]
  },
  {
   "cell_type": "code",
   "execution_count": 212,
   "id": "e03bca98-e8aa-48ab-9f24-fbdb29499025",
   "metadata": {},
   "outputs": [
    {
     "name": "stdout",
     "output_type": "stream",
     "text": [
      "3x3 matrix\n",
      "[[0. 0. 0.]\n",
      " [0. 0. 0.]\n",
      " [0. 0. 0.]]\n"
     ]
    }
   ],
   "source": [
    "grid = Grid(4)\n",
    "game = Game(grid, [\"p1\", \"p2\"]) \n",
    "\n",
    "# print(game.grid.grid)\n",
    "print(game.grid.score_grid)\n",
    "\n",
    "# print(game.grid.grid)"
   ]
  },
  {
   "cell_type": "code",
   "execution_count": null,
   "id": "02c5cb8c-abc6-424a-8dd3-94ae1acf94e7",
   "metadata": {},
   "outputs": [],
   "source": []
  },
  {
   "cell_type": "code",
   "execution_count": 222,
   "id": "1f0b8f75-94fb-4e63-9d87-0f07d451f6cd",
   "metadata": {},
   "outputs": [
    {
     "name": "stdout",
     "output_type": "stream",
     "text": [
      "3x3 matrix\n"
     ]
    }
   ],
   "source": [
    "grid = Grid(4)\n",
    "game = Game(grid, [\"p1\", \"p2\"]) \n",
    "\n",
    "def get_3x3_grid_position(self):\n",
    "    pass"
   ]
  },
  {
   "cell_type": "code",
   "execution_count": null,
   "id": "33abfc2f-8a50-42f1-a354-1232136f31d9",
   "metadata": {},
   "outputs": [],
   "source": []
  },
  {
   "cell_type": "code",
   "execution_count": null,
   "id": "37dec2ce-8c10-483b-81fb-dfb39c7b1b46",
   "metadata": {},
   "outputs": [],
   "source": []
  },
  {
   "cell_type": "markdown",
   "id": "a8308b04-b7f0-43c8-ac1a-5adc8c4fef07",
   "metadata": {},
   "source": [
    "# it looks like using a matrix that is a list of matrices\n",
    "# makes getting the position to play complicated if the dimension is greater than 4.\n",
    "\n",
    "# i think the better approach would be to generate one matrix instead"
   ]
  },
  {
   "cell_type": "markdown",
   "id": "fa56e669-810e-48d2-9515-c9f49c9c8c0f",
   "metadata": {},
   "source": [
    "\n",
    "## nevermind,\n",
    "\n",
    "- actually, now that i think about it. i think i can combine the two approach.\n",
    "\n",
    "- keeping what i currently have, a grid that is a list of matrices called game_grid,\n",
    "- and having a another grid that is a square matrix called position_grid,\n",
    "\n",
    "- and then creating a method that would take the position in (x,y) in the position grid and convert that to be placed in the game_grid.\n",
    "\n",
    "  "
   ]
  },
  {
   "cell_type": "code",
   "execution_count": null,
   "id": "71d129e0-5476-4275-b26e-0d49635ef4e8",
   "metadata": {},
   "outputs": [],
   "source": []
  },
  {
   "cell_type": "code",
   "execution_count": 238,
   "id": "1d8eca66-6036-47af-a7cf-8b74a9ce280b",
   "metadata": {},
   "outputs": [
    {
     "name": "stdout",
     "output_type": "stream",
     "text": [
      "[[0 0 0 0 0 0 0 0 0]\n",
      " [0 0 0 0 0 0 0 0 0]\n",
      " [0 0 0 0 0 0 0 0 0]\n",
      " [0 0 0 0 0 0 0 0 0]\n",
      " [0 0 0 0 0 0 0 0 0]\n",
      " [0 0 0 0 0 0 0 0 0]\n",
      " [0 0 0 0 0 0 0 0 0]\n",
      " [0 0 0 0 0 0 0 0 0]\n",
      " [0 0 0 0 0 0 0 0 0]]\n"
     ]
    }
   ],
   "source": [
    "# width = 3, dimension = 6\n",
    "# position grid \n",
    "\n",
    "position_grid = np.zeros((9,9), dtype=int)\n",
    "print(position_grid)"
   ]
  },
  {
   "cell_type": "code",
   "execution_count": 239,
   "id": "244528e5-1d69-423b-9fbb-901aa152282f",
   "metadata": {
    "scrolled": true
   },
   "outputs": [
    {
     "name": "stdout",
     "output_type": "stream",
     "text": [
      "[[[[[0 0 0]\n",
      "    [0 0 0]\n",
      "    [0 0 0]]\n",
      "\n",
      "   [[0 0 0]\n",
      "    [0 0 0]\n",
      "    [0 0 0]]\n",
      "\n",
      "   [[0 0 0]\n",
      "    [0 0 0]\n",
      "    [0 0 0]]]\n",
      "\n",
      "\n",
      "  [[[0 0 0]\n",
      "    [0 0 0]\n",
      "    [0 0 0]]\n",
      "\n",
      "   [[0 0 0]\n",
      "    [0 0 0]\n",
      "    [0 0 0]]\n",
      "\n",
      "   [[0 0 0]\n",
      "    [0 0 0]\n",
      "    [0 0 0]]]\n",
      "\n",
      "\n",
      "  [[[0 0 0]\n",
      "    [0 0 0]\n",
      "    [0 0 0]]\n",
      "\n",
      "   [[0 0 0]\n",
      "    [0 0 0]\n",
      "    [0 0 0]]\n",
      "\n",
      "   [[0 0 0]\n",
      "    [0 0 0]\n",
      "    [0 0 0]]]]\n",
      "\n",
      "\n",
      "\n",
      " [[[[0 0 0]\n",
      "    [0 0 0]\n",
      "    [0 0 0]]\n",
      "\n",
      "   [[0 0 0]\n",
      "    [0 0 0]\n",
      "    [0 0 0]]\n",
      "\n",
      "   [[0 0 0]\n",
      "    [0 0 0]\n",
      "    [0 0 0]]]\n",
      "\n",
      "\n",
      "  [[[0 0 0]\n",
      "    [0 0 0]\n",
      "    [0 0 0]]\n",
      "\n",
      "   [[0 0 0]\n",
      "    [0 0 0]\n",
      "    [0 0 0]]\n",
      "\n",
      "   [[0 0 0]\n",
      "    [0 0 0]\n",
      "    [0 0 0]]]\n",
      "\n",
      "\n",
      "  [[[0 0 0]\n",
      "    [0 0 0]\n",
      "    [0 0 0]]\n",
      "\n",
      "   [[0 0 0]\n",
      "    [0 0 0]\n",
      "    [0 0 0]]\n",
      "\n",
      "   [[0 0 0]\n",
      "    [0 0 0]\n",
      "    [0 0 0]]]]\n",
      "\n",
      "\n",
      "\n",
      " [[[[0 0 0]\n",
      "    [0 0 0]\n",
      "    [0 0 0]]\n",
      "\n",
      "   [[0 0 0]\n",
      "    [0 0 0]\n",
      "    [0 0 0]]\n",
      "\n",
      "   [[0 0 0]\n",
      "    [0 0 0]\n",
      "    [0 0 0]]]\n",
      "\n",
      "\n",
      "  [[[0 0 0]\n",
      "    [0 0 0]\n",
      "    [0 0 0]]\n",
      "\n",
      "   [[0 0 0]\n",
      "    [0 0 0]\n",
      "    [0 0 0]]\n",
      "\n",
      "   [[0 0 0]\n",
      "    [0 0 0]\n",
      "    [0 0 0]]]\n",
      "\n",
      "\n",
      "  [[[0 0 0]\n",
      "    [0 0 0]\n",
      "    [0 0 0]]\n",
      "\n",
      "   [[0 0 0]\n",
      "    [0 0 0]\n",
      "    [0 0 0]]\n",
      "\n",
      "   [[0 0 0]\n",
      "    [0 0 0]\n",
      "    [0 0 0]]]]]\n"
     ]
    }
   ],
   "source": [
    "# width = 3, dimension = 6\n",
    "# game grid \n",
    "\n",
    "game_grid = np.zeros((3,3,3,3,3,3), dtype=int)\n",
    "print(game_grid[0])"
   ]
  },
  {
   "cell_type": "code",
   "execution_count": 273,
   "id": "91c6d9c8-db0e-48ea-ac8f-9fcde9ae95c8",
   "metadata": {},
   "outputs": [
    {
     "name": "stdout",
     "output_type": "stream",
     "text": [
      "[[-1  0  0  0  0  0  0  0  0]\n",
      " [ 0  0  0  0  0  0  0  0  0]\n",
      " [ 0  0  0  0  0  0  0  0  0]\n",
      " [ 0  0  0  0  0  0  0  0  0]\n",
      " [ 0  0  0  0  0  0  0  0  0]\n",
      " [ 0  0  0  0  0  0  0  0  0]\n",
      " [ 0  0  0  0  0  0  0  0  0]\n",
      " [ 0  0  0  0  0  0  0  0  0]\n",
      " [ 0  0  0  0  0  0  0  0  0]]\n"
     ]
    }
   ],
   "source": [
    "# player X place mark at (x=0, y=0)\n",
    "\n",
    "from tabulate import tabulate\n",
    "\n",
    "position_grid[0][0] = -1\n",
    "print(position_grid)\n",
    "\n",
    "\n",
    "\n",
    "# print(tabulate(position_grid))"
   ]
  },
  {
   "cell_type": "code",
   "execution_count": 272,
   "id": "5e0c6c37-da38-4fde-a424-eefb3ce6008b",
   "metadata": {},
   "outputs": [
    {
     "name": "stdout",
     "output_type": "stream",
     "text": [
      "--  -  -\n",
      "-1  0  0\n",
      " 0  0  0\n",
      " 0  0  0\n",
      "--  -  -\n",
      "[[[[[-1  0  0]\n",
      "    [ 0  0  0]\n",
      "    [ 0  0  0]]\n",
      "\n",
      "   [[ 0  0  0]\n",
      "    [ 0  0  0]\n",
      "    [ 0  0  0]]\n",
      "\n",
      "   [[ 0  0  0]\n",
      "    [ 0  0  0]\n",
      "    [ 0  0  0]]]\n",
      "\n",
      "\n",
      "  [[[ 0  0  0]\n",
      "    [ 0  0  0]\n",
      "    [ 0  0  0]]\n",
      "\n",
      "   [[ 0  0  0]\n",
      "    [ 0  0  0]\n",
      "    [ 0  0  0]]\n",
      "\n",
      "   [[ 0  0  0]\n",
      "    [ 0  0  0]\n",
      "    [ 0  0  0]]]\n",
      "\n",
      "\n",
      "  [[[ 0  0  0]\n",
      "    [ 0  0  0]\n",
      "    [ 0  0  0]]\n",
      "\n",
      "   [[ 0  0  0]\n",
      "    [ 0  0  0]\n",
      "    [ 0  0  0]]\n",
      "\n",
      "   [[ 0  0  0]\n",
      "    [ 0  0  0]\n",
      "    [ 0  0  0]]]]\n",
      "\n",
      "\n",
      "\n",
      " [[[[ 0  0  0]\n",
      "    [ 0  0  0]\n",
      "    [ 0  0  0]]\n",
      "\n",
      "   [[ 0  0  0]\n",
      "    [ 0  0  0]\n",
      "    [ 0  0  0]]\n",
      "\n",
      "   [[ 0  0  0]\n",
      "    [ 0  0  0]\n",
      "    [ 0  0  0]]]\n",
      "\n",
      "\n",
      "  [[[ 0  0  0]\n",
      "    [ 0  0  0]\n",
      "    [ 0  0  0]]\n",
      "\n",
      "   [[ 0  0  0]\n",
      "    [ 0  0  0]\n",
      "    [ 0  0  0]]\n",
      "\n",
      "   [[ 0  0  0]\n",
      "    [ 0  0  0]\n",
      "    [ 0  0  0]]]\n",
      "\n",
      "\n",
      "  [[[ 0  0  0]\n",
      "    [ 0  0  0]\n",
      "    [ 0  0  0]]\n",
      "\n",
      "   [[ 0  0  0]\n",
      "    [ 0  0  0]\n",
      "    [ 0  0  0]]\n",
      "\n",
      "   [[ 0  0  0]\n",
      "    [ 0  0  0]\n",
      "    [ 0  0  0]]]]\n",
      "\n",
      "\n",
      "\n",
      " [[[[ 0  0  0]\n",
      "    [ 0  0  0]\n",
      "    [ 0  0  0]]\n",
      "\n",
      "   [[ 0  0  0]\n",
      "    [ 0  0  0]\n",
      "    [ 0  0  0]]\n",
      "\n",
      "   [[ 0  0  0]\n",
      "    [ 0  0  0]\n",
      "    [ 0  0  0]]]\n",
      "\n",
      "\n",
      "  [[[ 0  0  0]\n",
      "    [ 0  0  0]\n",
      "    [ 0  0  0]]\n",
      "\n",
      "   [[ 0  0  0]\n",
      "    [ 0  0  0]\n",
      "    [ 0  0  0]]\n",
      "\n",
      "   [[ 0  0  0]\n",
      "    [ 0  0  0]\n",
      "    [ 0  0  0]]]\n",
      "\n",
      "\n",
      "  [[[ 0  0  0]\n",
      "    [ 0  0  0]\n",
      "    [ 0  0  0]]\n",
      "\n",
      "   [[ 0  0  0]\n",
      "    [ 0  0  0]\n",
      "    [ 0  0  0]]\n",
      "\n",
      "   [[ 0  0  0]\n",
      "    [ 0  0  0]\n",
      "    [ 0  0  0]]]]]\n"
     ]
    }
   ],
   "source": [
    "# then, in the game_grid,\n",
    "game_grid[0][0][0][0][0][0] = -1\n",
    "\n",
    "print(tabulate(game_grid[0][0][0][0])) # the first 3x3 grid \n",
    "print(game_grid[0])\n"
   ]
  },
  {
   "cell_type": "code",
   "execution_count": null,
   "id": "fe9fdfb2-bf95-4879-a0b5-d5bcee9bf92d",
   "metadata": {},
   "outputs": [],
   "source": []
  },
  {
   "cell_type": "code",
   "execution_count": null,
   "id": "2ff70c28-2f4f-46ef-ac66-dc65663f54da",
   "metadata": {},
   "outputs": [],
   "source": []
  },
  {
   "cell_type": "code",
   "execution_count": 274,
   "id": "aa2b7075-ea53-44b4-ae04-10279076a6b9",
   "metadata": {},
   "outputs": [],
   "source": [
    "# moved to version 2"
   ]
  },
  {
   "cell_type": "code",
   "execution_count": null,
   "id": "f7a5acc1-5616-4c7a-89f1-e42a82c901b3",
   "metadata": {},
   "outputs": [],
   "source": []
  }
 ],
 "metadata": {
  "kernelspec": {
   "display_name": "Python 3 (ipykernel)",
   "language": "python",
   "name": "python3"
  },
  "language_info": {
   "codemirror_mode": {
    "name": "ipython",
    "version": 3
   },
   "file_extension": ".py",
   "mimetype": "text/x-python",
   "name": "python",
   "nbconvert_exporter": "python",
   "pygments_lexer": "ipython3",
   "version": "3.12.4"
  }
 },
 "nbformat": 4,
 "nbformat_minor": 5
}
