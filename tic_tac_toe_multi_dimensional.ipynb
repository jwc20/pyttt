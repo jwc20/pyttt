{
 "cells": [
  {
   "cell_type": "markdown",
   "id": "cf4e8a18-20fe-4d5a-ab2b-da5afa265a76",
   "metadata": {},
   "source": [
    "# Multi-dimensional ttt (ultimate ttt rules)"
   ]
  },
  {
   "cell_type": "code",
   "execution_count": 1,
   "id": "8f44798f-4791-4837-8966-3ed56614cbf6",
   "metadata": {},
   "outputs": [],
   "source": [
    "import numpy as np\n",
    "from typing import List\n"
   ]
  },
  {
   "cell_type": "code",
   "execution_count": 61,
   "id": "3183374b-6003-48de-8442-56f2784550e2",
   "metadata": {},
   "outputs": [],
   "source": [
    "class Grid:\n",
    "    def __init__(self, d):\n",
    "        self.w = 3\n",
    "        self.d = d\n",
    "        self._grid = None\n",
    "        self.init_grid()\n",
    "\n",
    "    def init_grid(self):\n",
    "        _tuple = tuple([self.w for _ in range(self.d)])\n",
    "        self._grid = np.zeros(_tuple, dtype=int)\n",
    "\n",
    "    @property\n",
    "    def grid(self):\n",
    "        return self._grid\n",
    "\n",
    "    def get_w(self):\n",
    "        return self.w\n",
    "\n",
    "    def get_d(self):\n",
    "        return self.d\n",
    "\n",
    "    def is_valid_position(self, x, y):\n",
    "        return 0 <= x < self.w and 0 <= y < self.w\n",
    "\n",
    "    def place_mark(self, x, y, value):\n",
    "        if self._grid is None:\n",
    "            raise ValueError(\"Grid is not initialized\")\n",
    "\n",
    "        if not self.is_valid_position(x, y):\n",
    "            raise ValueError(f\"Position ({x}, {y}) is out of bounds. Valid range: 0-{self.w-1}\")\n",
    "\n",
    "        self._grid[x][y] = value\n"
   ]
  },
  {
   "cell_type": "code",
   "execution_count": 62,
   "id": "9ec5978a-a1d9-4259-8a9a-d8a7b2662d73",
   "metadata": {},
   "outputs": [],
   "source": [
    "class Player:\n",
    "    def __init__(self, name, mark):\n",
    "        self._name = name\n",
    "        self._mark = mark\n",
    "\n",
    "    @property\n",
    "    def name(self):\n",
    "        return self._name\n",
    "\n",
    "    @property\n",
    "    def mark(self):\n",
    "        return self._mark\n"
   ]
  },
  {
   "cell_type": "code",
   "execution_count": 79,
   "id": "10e7696f-8cba-44b1-bedd-32b23f2802c2",
   "metadata": {},
   "outputs": [],
   "source": [
    "class Game:\n",
    "    active_turn = -1\n",
    "\n",
    "    def __init__(self, grid, players: List[str]):\n",
    "        self._grid = grid\n",
    "        self._score_grid = None\n",
    "        self._game_over = False\n",
    "        if len(players) == 2:\n",
    "            self._players = [\n",
    "                Player(players[0], -1),  # player 1 is X = -1\n",
    "                Player(players[1], 1),  # player 2 is O = 1\n",
    "            ]\n",
    "        else:\n",
    "            raise ValueError(\"error, there must be only two players\")\n",
    "\n",
    "        # if self.get_dim() > 2:\n",
    "        #     self.init_score_grid()\n",
    "        self.sum_to_win = self.get_width() ** (self.get_dim() // 2)\n",
    "\n",
    "    def init_score_grid(self):\n",
    "        _d = self.get_dim() - 2\n",
    "        _list = []\n",
    "        for _ in range(_d):\n",
    "            _list.append(3)\n",
    "        _tuple = tuple(_list)\n",
    "\n",
    "        self._score_grid = np.zeros(_tuple, dtype=int)\n",
    "\n",
    "    def get_dim(self):\n",
    "        return self._grid.get_d()\n",
    "\n",
    "    def get_width(self):\n",
    "        return self._grid.get_w()\n",
    "\n",
    "    # @property\n",
    "    # def score_grid(self):\n",
    "    #     return self._score_grid\n",
    "\n",
    "    @property\n",
    "    def players(self):\n",
    "        return self._players\n",
    "\n",
    "    @property\n",
    "    def game_over(self):\n",
    "        return self._game_over\n",
    "\n",
    "    def switch_turn(self):\n",
    "        global active_turn\n",
    "        self.active_turn *= -1\n",
    "        return self.active_turn\n",
    "\n",
    "    def get_player(self):\n",
    "        return 0 if self.active_turn == 1 else 1\n",
    "\n",
    "    def play_move(self, x, y):\n",
    "        \"\"\"play move in a 3x3 grid\"\"\"\n",
    "\n",
    "        # check if already placed\n",
    "        if self._grid.grid[x][y] != 0:\n",
    "            # raise ValueError(\"error, already placed\")\n",
    "            # print(\"error, already placed\")\n",
    "            return \"error, already placed\"\n",
    "\n",
    "        active_turn = self.switch_turn()\n",
    "        print(\n",
    "            f\"player {self._players[self.get_player()].name} is placing: {active_turn}\"\n",
    "        )\n",
    "        self._grid.place_mark(x, y, active_turn)\n",
    "        print(self._grid.grid)\n",
    "\n",
    "        check_win = self.check_win()\n",
    "        if check_win:\n",
    "            self._game_over = True\n",
    "\n",
    "        # draw\n",
    "        if 0 not in self._grid.grid and self._game_over is False:\n",
    "            print(\"draw\")\n",
    "            self._game_over = True\n",
    "\n",
    "    def check_all_sums(self):\n",
    "        sums = []\n",
    "        matrix = self._grid.grid\n",
    "\n",
    "        row_sums = np.sum(matrix, axis=1)\n",
    "        col_sums = np.sum(matrix, axis=0)\n",
    "        main_diag_sum = np.trace(matrix)\n",
    "        anti_diag_sum = np.trace(np.fliplr(matrix))\n",
    "\n",
    "        sums.extend(row_sums)\n",
    "        sums.extend(col_sums)\n",
    "        sums.append(main_diag_sum)\n",
    "        sums.append(anti_diag_sum)\n",
    "\n",
    "        return sums\n",
    "\n",
    "    def check_win(self):\n",
    "        all_sum = self.check_all_sums()\n",
    "\n",
    "        if 3 in all_sum:\n",
    "            print(f\"{self.players[1].name} wins\")\n",
    "            return True\n",
    "        elif -3 in all_sum:\n",
    "            print(f\"{self.players[0].name} wins\")\n",
    "            return True\n"
   ]
  },
  {
   "cell_type": "code",
   "execution_count": 90,
   "id": "f6da457a-51f7-4dbc-9d12-834e5069f85a",
   "metadata": {},
   "outputs": [
    {
     "name": "stdout",
     "output_type": "stream",
     "text": [
      "6\n",
      "3\n",
      "27\n"
     ]
    }
   ],
   "source": [
    "\n",
    "# 3 ^ 6 game\n",
    "# dimension = 6\n",
    "\n",
    "grid = Grid(6)\n",
    "game = Game(grid, [\"p1\", \"p2\"]) \n",
    "print(game.get_dim())\n",
    "print(game.get_width())\n",
    "print(game.sum_to_win)\n",
    "\n",
    "# while game._game_over is False:\n",
    "#     x = random.randrange(3)\n",
    "#     y = random.randrange(3)\n",
    "#     game.play_move(x,y)\n"
   ]
  },
  {
   "cell_type": "code",
   "execution_count": 105,
   "id": "6a19f384-9597-40cd-bf81-895b3e40b92a",
   "metadata": {},
   "outputs": [
    {
     "name": "stdout",
     "output_type": "stream",
     "text": [
      "[[0. 0. 0.]\n",
      " [0. 0. 0.]\n",
      " [0. 0. 0.]]\n"
     ]
    }
   ],
   "source": [
    "score_grid_4 = np.zeros((3,3)) \n",
    "print(score_grid_4)"
   ]
  },
  {
   "cell_type": "code",
   "execution_count": 92,
   "id": "7bf7caa0-664e-4b04-bb04-b59fe193a3a9",
   "metadata": {},
   "outputs": [
    {
     "name": "stdout",
     "output_type": "stream",
     "text": [
      "[[0. 0. 0. 0. 0. 0. 0. 0. 0.]\n",
      " [0. 0. 0. 0. 0. 0. 0. 0. 0.]\n",
      " [0. 0. 0. 0. 0. 0. 0. 0. 0.]\n",
      " [0. 0. 0. 0. 0. 0. 0. 0. 0.]\n",
      " [0. 0. 0. 0. 0. 0. 0. 0. 0.]\n",
      " [0. 0. 0. 0. 0. 0. 0. 0. 0.]\n",
      " [0. 0. 0. 0. 0. 0. 0. 0. 0.]\n",
      " [0. 0. 0. 0. 0. 0. 0. 0. 0.]\n",
      " [0. 0. 0. 0. 0. 0. 0. 0. 0.]]\n"
     ]
    }
   ],
   "source": [
    "score_grid_6 = np.zeros((9,9)) \n",
    "print(score_grid_6)"
   ]
  },
  {
   "cell_type": "code",
   "execution_count": 131,
   "id": "bea30e2e-808b-4da8-8d9b-546f4180fcd3",
   "metadata": {},
   "outputs": [],
   "source": [
    "def get_score_grid(w,d):\n",
    "    n = 3**(d//2 - 1)\n",
    "    print(f\"{n}x{n} matrix\")\n",
    "    score_grid_d = np.zeros((n, n)) \n",
    "    return score_grid_d\n"
   ]
  },
  {
   "cell_type": "code",
   "execution_count": 132,
   "id": "b2846ce9-f1fe-4ed0-9765-450a6016523c",
   "metadata": {},
   "outputs": [
    {
     "name": "stdout",
     "output_type": "stream",
     "text": [
      "3x3 matrix\n",
      "[[0. 0. 0.]\n",
      " [0. 0. 0.]\n",
      " [0. 0. 0.]]\n"
     ]
    }
   ],
   "source": [
    "w = 3\n",
    "d4 = 4\n",
    "print(get_score_grid(w,d4))"
   ]
  },
  {
   "cell_type": "code",
   "execution_count": 133,
   "id": "0b5e8b27-bf33-4ef1-bed9-30ec64722aa1",
   "metadata": {},
   "outputs": [
    {
     "name": "stdout",
     "output_type": "stream",
     "text": [
      "9x9 matrix\n",
      "[[0. 0. 0. 0. 0. 0. 0. 0. 0.]\n",
      " [0. 0. 0. 0. 0. 0. 0. 0. 0.]\n",
      " [0. 0. 0. 0. 0. 0. 0. 0. 0.]\n",
      " [0. 0. 0. 0. 0. 0. 0. 0. 0.]\n",
      " [0. 0. 0. 0. 0. 0. 0. 0. 0.]\n",
      " [0. 0. 0. 0. 0. 0. 0. 0. 0.]\n",
      " [0. 0. 0. 0. 0. 0. 0. 0. 0.]\n",
      " [0. 0. 0. 0. 0. 0. 0. 0. 0.]\n",
      " [0. 0. 0. 0. 0. 0. 0. 0. 0.]]\n"
     ]
    }
   ],
   "source": [
    "d6 = 6\n",
    "print(get_score_grid(w,d6))"
   ]
  },
  {
   "cell_type": "code",
   "execution_count": 134,
   "id": "dadbfe00-19b5-4637-bbf7-51b4caa0a0a4",
   "metadata": {
    "scrolled": true
   },
   "outputs": [
    {
     "name": "stdout",
     "output_type": "stream",
     "text": [
      "27x27 matrix\n",
      "[[0. 0. 0. 0. 0. 0. 0. 0. 0. 0. 0. 0. 0. 0. 0. 0. 0. 0. 0. 0. 0. 0. 0. 0.\n",
      "  0. 0. 0.]\n",
      " [0. 0. 0. 0. 0. 0. 0. 0. 0. 0. 0. 0. 0. 0. 0. 0. 0. 0. 0. 0. 0. 0. 0. 0.\n",
      "  0. 0. 0.]\n",
      " [0. 0. 0. 0. 0. 0. 0. 0. 0. 0. 0. 0. 0. 0. 0. 0. 0. 0. 0. 0. 0. 0. 0. 0.\n",
      "  0. 0. 0.]\n",
      " [0. 0. 0. 0. 0. 0. 0. 0. 0. 0. 0. 0. 0. 0. 0. 0. 0. 0. 0. 0. 0. 0. 0. 0.\n",
      "  0. 0. 0.]\n",
      " [0. 0. 0. 0. 0. 0. 0. 0. 0. 0. 0. 0. 0. 0. 0. 0. 0. 0. 0. 0. 0. 0. 0. 0.\n",
      "  0. 0. 0.]\n",
      " [0. 0. 0. 0. 0. 0. 0. 0. 0. 0. 0. 0. 0. 0. 0. 0. 0. 0. 0. 0. 0. 0. 0. 0.\n",
      "  0. 0. 0.]\n",
      " [0. 0. 0. 0. 0. 0. 0. 0. 0. 0. 0. 0. 0. 0. 0. 0. 0. 0. 0. 0. 0. 0. 0. 0.\n",
      "  0. 0. 0.]\n",
      " [0. 0. 0. 0. 0. 0. 0. 0. 0. 0. 0. 0. 0. 0. 0. 0. 0. 0. 0. 0. 0. 0. 0. 0.\n",
      "  0. 0. 0.]\n",
      " [0. 0. 0. 0. 0. 0. 0. 0. 0. 0. 0. 0. 0. 0. 0. 0. 0. 0. 0. 0. 0. 0. 0. 0.\n",
      "  0. 0. 0.]\n",
      " [0. 0. 0. 0. 0. 0. 0. 0. 0. 0. 0. 0. 0. 0. 0. 0. 0. 0. 0. 0. 0. 0. 0. 0.\n",
      "  0. 0. 0.]\n",
      " [0. 0. 0. 0. 0. 0. 0. 0. 0. 0. 0. 0. 0. 0. 0. 0. 0. 0. 0. 0. 0. 0. 0. 0.\n",
      "  0. 0. 0.]\n",
      " [0. 0. 0. 0. 0. 0. 0. 0. 0. 0. 0. 0. 0. 0. 0. 0. 0. 0. 0. 0. 0. 0. 0. 0.\n",
      "  0. 0. 0.]\n",
      " [0. 0. 0. 0. 0. 0. 0. 0. 0. 0. 0. 0. 0. 0. 0. 0. 0. 0. 0. 0. 0. 0. 0. 0.\n",
      "  0. 0. 0.]\n",
      " [0. 0. 0. 0. 0. 0. 0. 0. 0. 0. 0. 0. 0. 0. 0. 0. 0. 0. 0. 0. 0. 0. 0. 0.\n",
      "  0. 0. 0.]\n",
      " [0. 0. 0. 0. 0. 0. 0. 0. 0. 0. 0. 0. 0. 0. 0. 0. 0. 0. 0. 0. 0. 0. 0. 0.\n",
      "  0. 0. 0.]\n",
      " [0. 0. 0. 0. 0. 0. 0. 0. 0. 0. 0. 0. 0. 0. 0. 0. 0. 0. 0. 0. 0. 0. 0. 0.\n",
      "  0. 0. 0.]\n",
      " [0. 0. 0. 0. 0. 0. 0. 0. 0. 0. 0. 0. 0. 0. 0. 0. 0. 0. 0. 0. 0. 0. 0. 0.\n",
      "  0. 0. 0.]\n",
      " [0. 0. 0. 0. 0. 0. 0. 0. 0. 0. 0. 0. 0. 0. 0. 0. 0. 0. 0. 0. 0. 0. 0. 0.\n",
      "  0. 0. 0.]\n",
      " [0. 0. 0. 0. 0. 0. 0. 0. 0. 0. 0. 0. 0. 0. 0. 0. 0. 0. 0. 0. 0. 0. 0. 0.\n",
      "  0. 0. 0.]\n",
      " [0. 0. 0. 0. 0. 0. 0. 0. 0. 0. 0. 0. 0. 0. 0. 0. 0. 0. 0. 0. 0. 0. 0. 0.\n",
      "  0. 0. 0.]\n",
      " [0. 0. 0. 0. 0. 0. 0. 0. 0. 0. 0. 0. 0. 0. 0. 0. 0. 0. 0. 0. 0. 0. 0. 0.\n",
      "  0. 0. 0.]\n",
      " [0. 0. 0. 0. 0. 0. 0. 0. 0. 0. 0. 0. 0. 0. 0. 0. 0. 0. 0. 0. 0. 0. 0. 0.\n",
      "  0. 0. 0.]\n",
      " [0. 0. 0. 0. 0. 0. 0. 0. 0. 0. 0. 0. 0. 0. 0. 0. 0. 0. 0. 0. 0. 0. 0. 0.\n",
      "  0. 0. 0.]\n",
      " [0. 0. 0. 0. 0. 0. 0. 0. 0. 0. 0. 0. 0. 0. 0. 0. 0. 0. 0. 0. 0. 0. 0. 0.\n",
      "  0. 0. 0.]\n",
      " [0. 0. 0. 0. 0. 0. 0. 0. 0. 0. 0. 0. 0. 0. 0. 0. 0. 0. 0. 0. 0. 0. 0. 0.\n",
      "  0. 0. 0.]\n",
      " [0. 0. 0. 0. 0. 0. 0. 0. 0. 0. 0. 0. 0. 0. 0. 0. 0. 0. 0. 0. 0. 0. 0. 0.\n",
      "  0. 0. 0.]\n",
      " [0. 0. 0. 0. 0. 0. 0. 0. 0. 0. 0. 0. 0. 0. 0. 0. 0. 0. 0. 0. 0. 0. 0. 0.\n",
      "  0. 0. 0.]]\n"
     ]
    }
   ],
   "source": [
    "d8 = 8\n",
    "print(get_score_grid(w,d8))"
   ]
  },
  {
   "cell_type": "code",
   "execution_count": 135,
   "id": "2df3b0e0-18ce-4076-8a35-013ce8926f67",
   "metadata": {},
   "outputs": [
    {
     "name": "stdout",
     "output_type": "stream",
     "text": [
      "81x81 matrix\n",
      "[[0. 0. 0. ... 0. 0. 0.]\n",
      " [0. 0. 0. ... 0. 0. 0.]\n",
      " [0. 0. 0. ... 0. 0. 0.]\n",
      " ...\n",
      " [0. 0. 0. ... 0. 0. 0.]\n",
      " [0. 0. 0. ... 0. 0. 0.]\n",
      " [0. 0. 0. ... 0. 0. 0.]]\n"
     ]
    }
   ],
   "source": [
    "d10 = 10\n",
    "print(get_score_grid(w,d10))"
   ]
  },
  {
   "cell_type": "code",
   "execution_count": null,
   "id": "d8cf7c4a-adfd-4d57-90f0-0e52a2540ed4",
   "metadata": {},
   "outputs": [],
   "source": []
  },
  {
   "cell_type": "code",
   "execution_count": null,
   "id": "30e58a8d-7d9d-4afc-af41-be09a9c01be5",
   "metadata": {},
   "outputs": [],
   "source": []
  }
 ],
 "metadata": {
  "kernelspec": {
   "display_name": "Python 3 (ipykernel)",
   "language": "python",
   "name": "python3"
  },
  "language_info": {
   "codemirror_mode": {
    "name": "ipython",
    "version": 3
   },
   "file_extension": ".py",
   "mimetype": "text/x-python",
   "name": "python",
   "nbconvert_exporter": "python",
   "pygments_lexer": "ipython3",
   "version": "3.12.4"
  }
 },
 "nbformat": 4,
 "nbformat_minor": 5
}
