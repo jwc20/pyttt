{
 "cells": [
  {
   "cell_type": "markdown",
   "id": "db5b27f5-5fcc-4f16-90d4-d8cf0c682a35",
   "metadata": {},
   "source": [
    "# ttt variations\n",
    "\n",
    "- https://en.wikipedia.org/wiki/Tic-tac-toe_variants\n",
    "\n",
    "## ultimate tic-tac-toe\n",
    "\n",
    "- https://en.wikipedia.org/wiki/Ultimate_tic-tac-toe\n",
    "- https://mathwithbaddrawings.com/2013/06/16/ultimate-tic-tac-toe/\n",
    "\n",
    "---\n",
    "\n",
    "## m,n,k-game\n",
    "\n",
    "- https://en.wikipedia.org/wiki/M,n,k-game\n",
    "\n",
    "\n",
    "## 3d \n",
    "\n",
    "- https://en.wikipedia.org/wiki/3D_tic-tac-toe\n",
    "\n",
    "## Harary's generalized tic-tac-toe\n",
    "\n",
    "- https://en.wikipedia.org/wiki/Harary%27s_generalized_tic-tac-toe\n",
    "\n",
    "## nd game\n",
    "\n",
    "- https://en.wikipedia.org/wiki/Nd_game\n",
    "\n"
   ]
  },
  {
   "cell_type": "code",
   "execution_count": 12,
   "id": "6a8ca525-93c8-4a06-af65-d70b8213ab44",
   "metadata": {},
   "outputs": [],
   "source": [
    "import numpy as np\n",
    "from pprintpp import pprint as pp"
   ]
  },
  {
   "cell_type": "code",
   "execution_count": 6,
   "id": "ae00052c-8364-4ce1-8208-b5247c530d24",
   "metadata": {},
   "outputs": [
    {
     "name": "stdout",
     "output_type": "stream",
     "text": [
      "[[0. 0. 0.]\n",
      " [0. 0. 0.]\n",
      " [0. 0. 0.]]\n"
     ]
    }
   ],
   "source": [
    "matrix = np.zeros((3,3))\n",
    "print(matrix)"
   ]
  },
  {
   "cell_type": "code",
   "execution_count": 25,
   "id": "700e263b-2011-4b15-926f-0dfa7c9adfdd",
   "metadata": {},
   "outputs": [],
   "source": [
    "matrix = np.array([[np.zeros((3, 3)) for _ in range(3)] for _ in range(3)], dtype=object)"
   ]
  },
  {
   "cell_type": "code",
   "execution_count": 26,
   "id": "9a76f13e-27b4-43a0-83f5-216bc308b44c",
   "metadata": {},
   "outputs": [
    {
     "name": "stdout",
     "output_type": "stream",
     "text": [
      "Matrix at position [0,0]:\n",
      "[[0. 0. 0.]\n",
      " [0. 0. 0.]\n",
      " [0. 0. 0.]]\n"
     ]
    }
   ],
   "source": [
    "# Create a 3x3 matrix where each element is a 3x3 matrix\n",
    "matrix = np.zeros((3, 3, 3, 3))\n",
    "\n",
    "# Access individual 3x3 matrices\n",
    "print(\"Matrix at position [0,0]:\")\n",
    "print(matrix[0, 0])\n",
    "\n",
    "# print(matrix)"
   ]
  },
  {
   "cell_type": "code",
   "execution_count": 29,
   "id": "fc5b1703-bcd3-4728-911f-7a4e138435ed",
   "metadata": {},
   "outputs": [],
   "source": [
    "matrix = np.zeros((3, 3, 3, 3, 3, 3))\n",
    "# print(matrix)"
   ]
  },
  {
   "cell_type": "code",
   "execution_count": 35,
   "id": "67e22202-fd0d-4dc5-b6c3-412bf6ed7e46",
   "metadata": {},
   "outputs": [
    {
     "name": "stdout",
     "output_type": "stream",
     "text": [
      "[[0. 0. 0.]\n",
      " [0. 0. 0.]\n",
      " [0. 0. 0.]]\n"
     ]
    }
   ],
   "source": [
    "_tuple = (3,3)\n",
    "matrix = np.zeros(_tuple)\n",
    "print(matrix)"
   ]
  },
  {
   "cell_type": "code",
   "execution_count": 45,
   "id": "e090b089-c4ab-4c2c-81aa-f67cabf7e288",
   "metadata": {},
   "outputs": [
    {
     "name": "stdout",
     "output_type": "stream",
     "text": [
      "(3, 3)\n",
      "[[0. 0. 0.]\n",
      " [0. 0. 0.]\n",
      " [0. 0. 0.]]\n"
     ]
    }
   ],
   "source": [
    "_list = []\n",
    "\n",
    "# 3x3 = 3^2\n",
    "# 3x3x3x3 = 3^4\n",
    "# 3x3x3x... = 3^d\n",
    "\n",
    "n = 3\n",
    "d = 2 # dimension d must be greater than 2 and must be an even number\n",
    "\n",
    "for x in range(d):\n",
    "    _list.append(n)\n",
    "_tuple = tuple(_list)\n",
    "\n",
    "\n",
    "print(_tuple)\n",
    "\n",
    "matrix = np.zeros(_tuple)\n",
    "print(matrix)"
   ]
  },
  {
   "cell_type": "code",
   "execution_count": 54,
   "id": "c0a4dce6-90e3-45a2-90ee-9b63882703fb",
   "metadata": {},
   "outputs": [],
   "source": [
    "# 3x3 classic tic-tac-toe\n",
    "\n",
    "class Grid:\n",
    "    def __init__(self):\n",
    "        self.n = 3\n",
    "        self.d = 2 \n",
    "        self._grid = None\n",
    "        self.init_grid()\n",
    "\n",
    "    def init_grid(self):\n",
    "        _list = []\n",
    "        for x in range(d):\n",
    "            _list.append(n)\n",
    "        _tuple = tuple(_list)\n",
    "        \n",
    "        self._grid = np.zeros(_tuple, dtype=int)\n",
    "\n",
    "    @property\n",
    "    def grid(self):\n",
    "        return self._grid\n",
    "\n",
    "    def place_mark(self, x, y):\n",
    "        pass\n",
    "\n",
    "    "
   ]
  },
  {
   "cell_type": "code",
   "execution_count": 55,
   "id": "be8cb31a-79fb-41da-b6d4-deb33f4449a3",
   "metadata": {},
   "outputs": [
    {
     "name": "stdout",
     "output_type": "stream",
     "text": [
      "[[0 0 0]\n",
      " [0 0 0]\n",
      " [0 0 0]]\n"
     ]
    }
   ],
   "source": [
    "grid = Grid()\n",
    "\n",
    "print(grid.grid)"
   ]
  },
  {
   "cell_type": "code",
   "execution_count": 56,
   "id": "34462e9c-c02a-4b62-9196-32d394c4a6c8",
   "metadata": {},
   "outputs": [
    {
     "name": "stdout",
     "output_type": "stream",
     "text": [
      "[[0 0 0]\n",
      " [0 0 0]\n",
      " [0 0 0]]\n"
     ]
    }
   ],
   "source": [
    "matrix = np.zeros((3,3), dtype=int)\n",
    "print(matrix)"
   ]
  },
  {
   "cell_type": "code",
   "execution_count": 58,
   "id": "ad7d4a03-d65e-438d-925d-0e18ddf71743",
   "metadata": {},
   "outputs": [
    {
     "name": "stdout",
     "output_type": "stream",
     "text": [
      "0\n"
     ]
    }
   ],
   "source": [
    "print(matrix[0][1])"
   ]
  },
  {
   "cell_type": "code",
   "execution_count": 61,
   "id": "31560b67-011d-490e-96ea-ade8c8d80d32",
   "metadata": {},
   "outputs": [
    {
     "name": "stdout",
     "output_type": "stream",
     "text": [
      "1\n",
      "[[0 1 0]\n",
      " [0 0 0]\n",
      " [0 0 0]]\n"
     ]
    }
   ],
   "source": [
    "matrix[0][1] = 1\n",
    "\n",
    "print(matrix[0][1])\n",
    "print(matrix)"
   ]
  },
  {
   "cell_type": "code",
   "execution_count": null,
   "id": "6c35b3ec-55d2-43e4-b9db-1cb743848a3d",
   "metadata": {},
   "outputs": [],
   "source": []
  },
  {
   "cell_type": "code",
   "execution_count": 130,
   "id": "a09e8b5b-6404-4c1a-9284-993d3c785b88",
   "metadata": {},
   "outputs": [],
   "source": [
    "# 3^d classic tic-tac-toe\n",
    "\n",
    "class Grid:\n",
    "    def __init__(self, d):\n",
    "        self.n = 3\n",
    "        self.d = d # must be even and d >= 2\n",
    "        self._grid = None\n",
    "        self._score_grid = None\n",
    "        self.init_grid()\n",
    "\n",
    "        if self.d > 2 and self.d % 2 == 0:\n",
    "            self.init_score_grid()\n",
    "        \n",
    "\n",
    "    def init_grid(self):\n",
    "        _list = []\n",
    "        for x in range(self.d):\n",
    "            _list.append(3)\n",
    "        _tuple = tuple(_list)\n",
    "        \n",
    "        self._grid = np.zeros(_tuple, dtype=int)\n",
    "\n",
    "    def init_score_grid(self):\n",
    "        dimension = self.d - 2\n",
    "        _list = []\n",
    "        for x in range(dimension):\n",
    "            _list.append(3)\n",
    "        _tuple = tuple(_list)\n",
    "        \n",
    "        self._score_grid = np.zeros(_tuple, dtype=int)\n",
    "        \n",
    "\n",
    "    @property\n",
    "    def grid(self):\n",
    "        return self._grid\n",
    "\n",
    "    @property\n",
    "    def score_grid(self):\n",
    "        return self._score_grid\n",
    "\n",
    "    def place_mark(self, x, y): # for 3x3\n",
    "        pass\n"
   ]
  },
  {
   "cell_type": "code",
   "execution_count": 69,
   "id": "2d443b9f-e730-4176-a196-159ce7c35579",
   "metadata": {},
   "outputs": [],
   "source": [
    "grid = Grid(6)\n",
    "\n",
    "# print(grid.grid)\n",
    "# print(grid.score_grid)\n",
    "\n"
   ]
  },
  {
   "cell_type": "code",
   "execution_count": 164,
   "id": "99278db7-c7cf-4566-8cf4-d04701ea4dc3",
   "metadata": {},
   "outputs": [],
   "source": [
    "# get turn for players\n",
    "\n",
    "active_turn = -1\n",
    "\n",
    "def switch_turn():\n",
    "    global active_turn\n",
    "    active_turn *= -1\n",
    "    return active_turn\n",
    "\n",
    "def get_player():\n",
    "    return 0 if active_turn == 1 else 1"
   ]
  },
  {
   "cell_type": "code",
   "execution_count": 204,
   "id": "88690f1d-9a23-4ad9-85ee-7e90eb7e67f3",
   "metadata": {},
   "outputs": [
    {
     "name": "stdout",
     "output_type": "stream",
     "text": [
      "player 0: -1\n"
     ]
    }
   ],
   "source": [
    "print(f\"player {get_player()}: {switch_turn()}\")"
   ]
  },
  {
   "cell_type": "code",
   "execution_count": null,
   "id": "0e23a81d-c0b0-496b-b623-efb12a22cf76",
   "metadata": {},
   "outputs": [],
   "source": []
  },
  {
   "cell_type": "code",
   "execution_count": null,
   "id": "d8b4a4e3-9c19-4450-a6f1-2b910a8afdfb",
   "metadata": {},
   "outputs": [],
   "source": []
  },
  {
   "cell_type": "markdown",
   "id": "00442db6-057e-457c-982f-5fb179962ce7",
   "metadata": {},
   "source": [
    "# Below is for 3x3 CLassic ttt game"
   ]
  },
  {
   "cell_type": "code",
   "execution_count": 242,
   "id": "05c2b4fc-f08a-4de3-9770-ae5170fec72c",
   "metadata": {},
   "outputs": [],
   "source": [
    "class Player:\n",
    "    def __init__(self,name, mark):\n",
    "        self._name = name\n",
    "        self._mark = mark\n",
    "\n",
    "    @property\n",
    "    def name(self):\n",
    "        return self._name\n",
    "\n",
    "    @property\n",
    "    def mark(self):\n",
    "        return self._mark"
   ]
  },
  {
   "cell_type": "code",
   "execution_count": 264,
   "id": "ee3bfb76-d958-41a4-b009-5a08f0733f09",
   "metadata": {},
   "outputs": [],
   "source": [
    "# 3x3 classic tic-tac-toe\n",
    "\n",
    "class Grid:\n",
    "    def __init__(self):\n",
    "        self.n = 3\n",
    "        self.d = 2 \n",
    "        self._grid = None\n",
    "        self.init_grid()\n",
    "\n",
    "    def init_grid(self):\n",
    "        _list = []\n",
    "        for x in range(d):\n",
    "            _list.append(n)\n",
    "        _tuple = tuple(_list)\n",
    "        \n",
    "        self._grid = np.zeros(_tuple, dtype=int)\n",
    "\n",
    "    @property\n",
    "    def grid(self):\n",
    "        return self._grid\n",
    "\n",
    "    def place_mark(self, x, y, value):\n",
    "        self._grid[x][y] = value\n",
    "\n",
    "\n",
    "    "
   ]
  },
  {
   "cell_type": "code",
   "execution_count": 314,
   "id": "961a406d-afbc-41cd-86eb-cc22074d6cae",
   "metadata": {},
   "outputs": [],
   "source": [
    "from typing import List\n",
    "\n",
    "class Game:\n",
    "    active_turn = -1\n",
    "    \n",
    "    def __init__(self, grid, players: List[str]):\n",
    "        self._grid = grid\n",
    "        self._score_grid = None\n",
    "        if len(players) == 2:\n",
    "            self._players = [\n",
    "                Player(players[0], -1), # player 1 is X = -1\n",
    "                Player(players[1], 1),  # player 2 is O = 1\n",
    "            ]\n",
    "        else:\n",
    "            print(\"error, there must be only two players\")\n",
    "\n",
    "        if self.get_dim() > 2:\n",
    "            self.init_score_grid()\n",
    "\n",
    "    def init_score_grid(self):\n",
    "        _d = self.get_dim() - 2\n",
    "        _list = []\n",
    "        for x in range(_d):\n",
    "            _list.append(3)\n",
    "        _tuple = tuple(_list)\n",
    "        \n",
    "        self._score_grid = np.zeros(_tuple, dtype=int)\n",
    "            \n",
    "\n",
    "    def get_dim(self):\n",
    "        return self._grid.grid.ndim\n",
    "\n",
    "    @property\n",
    "    def score_grid(self):\n",
    "        return self._score_grid\n",
    "\n",
    "    @property\n",
    "    def players(self):\n",
    "        return self._players\n",
    "\n",
    "    def switch_turn(self):\n",
    "        global active_turn\n",
    "        active_turn *= -1\n",
    "        return active_turn\n",
    "    \n",
    "    def get_player(self):\n",
    "        return 0 if active_turn == 1 else 1\n",
    "\n",
    "    def play_move(self, x, y):\n",
    "        # TODO: check if valid row and column\n",
    "        \n",
    "        # check if already placed\n",
    "        if self._grid.grid[x][y] != 0:\n",
    "            return \"error, already placed\"\n",
    "\n",
    "        active_turn = self.switch_turn()\n",
    "        print(f\"player {self._players[get_player()].name} is placing: {active_turn}\")\n",
    "        self._grid.place_mark(x, y, active_turn)\n",
    "        print(self._grid.grid)"
   ]
  },
  {
   "cell_type": "code",
   "execution_count": 315,
   "id": "a8a71d1c-f305-4fde-8b93-7f979b8adc5b",
   "metadata": {},
   "outputs": [
    {
     "name": "stdout",
     "output_type": "stream",
     "text": [
      "2\n"
     ]
    }
   ],
   "source": [
    "grid = Grid()\n",
    "game = Game(grid, [\"p1\", \"p2\"]) \n",
    "print(game.get_dim())"
   ]
  },
  {
   "cell_type": "code",
   "execution_count": 316,
   "id": "ab143516-8f74-430f-b7a4-84f84c512fd8",
   "metadata": {
    "scrolled": true
   },
   "outputs": [
    {
     "name": "stdout",
     "output_type": "stream",
     "text": [
      "None\n"
     ]
    }
   ],
   "source": [
    "print(game.score_grid)"
   ]
  },
  {
   "cell_type": "code",
   "execution_count": 333,
   "id": "f701072a-5efa-437c-9ab1-c068a1af7366",
   "metadata": {},
   "outputs": [
    {
     "name": "stdout",
     "output_type": "stream",
     "text": [
      "player p2 is placing: -1\n",
      "[[-1 -1 -1]\n",
      " [ 1  1  1]\n",
      " [ 1 -1 -1]]\n"
     ]
    }
   ],
   "source": [
    "# 0 <= x,y <= 2\n",
    "import random\n",
    "x = random.randrange(3)\n",
    "y = random.randrange(3)\n",
    "game.play_move(x,y)"
   ]
  },
  {
   "cell_type": "code",
   "execution_count": 334,
   "id": "16e56a2f-435d-49a0-b2fd-3c8e7c1187d0",
   "metadata": {},
   "outputs": [
    {
     "name": "stdout",
     "output_type": "stream",
     "text": [
      "[[-1 -1 -1]\n",
      " [ 1  1  1]\n",
      " [ 1 -1 -1]]\n"
     ]
    }
   ],
   "source": [
    "print(grid.grid)"
   ]
  },
  {
   "cell_type": "code",
   "execution_count": null,
   "id": "ff37ffaa-bee0-477a-b02a-35b1552a8529",
   "metadata": {},
   "outputs": [],
   "source": []
  },
  {
   "cell_type": "code",
   "execution_count": 335,
   "id": "d455b93a-a0b6-4afb-84b4-d22236008e16",
   "metadata": {},
   "outputs": [],
   "source": [
    "def check_win(matrix):\n",
    "    \"\"\"\n",
    "    - assume grid is a numpy 3x3 matrix\n",
    "\n",
    "    Need to check:\n",
    "    - vertical\n",
    "    - horizontal\n",
    "    - diagonal (45 degree angle)\n",
    "    - anti-diagonal (-45 degree angle    \n",
    "    \"\"\"\n",
    "    sums = []\n",
    "\n",
    "\n",
    "    # Row sums\n",
    "    row_sums = np.sum(matrix, axis=1)\n",
    "    print(\"Row sums:\", row_sums)\n",
    "    \n",
    "    # Column sums\n",
    "    col_sums = np.sum(matrix, axis=0)\n",
    "    print(\"Column sums:\", col_sums) \n",
    "    \n",
    "    # Main diagonal sum (top-left to bottom-right)\n",
    "    main_diag_sum = np.trace(matrix)\n",
    "    print(\"Main diagonal sum:\", main_diag_sum)  \n",
    "    \n",
    "    # Anti-diagonal sum (top-right to bottom-left)\n",
    "    anti_diag_sum = np.trace(np.fliplr(matrix))\n",
    "    print(\"Anti-diagonal sum:\", anti_diag_sum)  \n",
    "\n",
    "\n",
    "    sums.extend(row_sums)\n",
    "    sums.extend(col_sums)\n",
    "    sums.append(main_diag_sum)\n",
    "    sums.append(anti_diag_sum)\n",
    "\n",
    "\n",
    "    return sums"
   ]
  },
  {
   "cell_type": "code",
   "execution_count": 338,
   "id": "d09bc881-2be1-473c-8a4f-330a8ff8e617",
   "metadata": {},
   "outputs": [
    {
     "name": "stdout",
     "output_type": "stream",
     "text": [
      "Row sums: [-3  3 -1]\n",
      "Column sums: [ 1 -1 -1]\n",
      "Main diagonal sum: -1\n",
      "Anti-diagonal sum: 1\n",
      "p2 wins\n"
     ]
    }
   ],
   "source": [
    "all_sum = check_win(grid.grid)\n",
    "\n",
    "if 3 in all_sum:\n",
    "    print(f\"{game.players[1].name} wins\")\n",
    "elif -3 in all_sum:\n",
    "    print(f\"{game.players[0].name} wins\")"
   ]
  },
  {
   "cell_type": "code",
   "execution_count": null,
   "id": "138b736e-c0c3-4257-a5f0-3cada6d1f731",
   "metadata": {},
   "outputs": [],
   "source": []
  },
  {
   "cell_type": "code",
   "execution_count": null,
   "id": "fa8ed2fe-8954-4ab7-88ad-c4c59ec9c671",
   "metadata": {},
   "outputs": [],
   "source": []
  },
  {
   "cell_type": "code",
   "execution_count": null,
   "id": "063df9d1-0d58-416f-808a-d7c531ac9834",
   "metadata": {},
   "outputs": [],
   "source": []
  },
  {
   "cell_type": "code",
   "execution_count": null,
   "id": "7a3019f3-581a-4df3-a71e-9f054e84c5b9",
   "metadata": {},
   "outputs": [],
   "source": []
  },
  {
   "cell_type": "code",
   "execution_count": null,
   "id": "c8981dac-52ab-4669-8588-cbcd446a7c1b",
   "metadata": {},
   "outputs": [],
   "source": []
  },
  {
   "cell_type": "code",
   "execution_count": 414,
   "id": "f74d04bb-67b7-441b-b837-ac12120bbc58",
   "metadata": {},
   "outputs": [],
   "source": [
    "from typing import List\n",
    "\n",
    "class Game:\n",
    "    active_turn = -1\n",
    "    \n",
    "    def __init__(self, grid, players: List[str]):\n",
    "        self._grid = grid\n",
    "        self._score_grid = None\n",
    "        if len(players) == 2:\n",
    "            self._players = [\n",
    "                Player(players[0], -1), # player 1 is X = -1\n",
    "                Player(players[1], 1),  # player 2 is O = 1\n",
    "            ]\n",
    "        else:\n",
    "            print(\"error, there must be only two players\")\n",
    "\n",
    "        if self.get_dim() > 2:\n",
    "            self.init_score_grid()\n",
    "\n",
    "    def init_score_grid(self):\n",
    "        _d = self.get_dim() - 2\n",
    "        _list = []\n",
    "        for x in range(_d):\n",
    "            _list.append(3)\n",
    "        _tuple = tuple(_list)\n",
    "        \n",
    "        self._score_grid = np.zeros(_tuple, dtype=int)\n",
    "            \n",
    "\n",
    "    def get_dim(self):\n",
    "        return self._grid.grid.ndim\n",
    "\n",
    "    @property\n",
    "    def score_grid(self):\n",
    "        return self._score_grid\n",
    "\n",
    "    @property\n",
    "    def players(self):\n",
    "        return self._players\n",
    "\n",
    "    def switch_turn(self):\n",
    "        global active_turn\n",
    "        active_turn *= -1\n",
    "        return active_turn\n",
    "    \n",
    "    def get_player(self):\n",
    "        return 0 if active_turn == 1 else 1\n",
    "\n",
    "    def play_move(self, x, y):\n",
    "        # TODO: check if valid row and column\n",
    "        \n",
    "        # check if already placed\n",
    "        if self._grid.grid[x][y] != 0:\n",
    "            return \"error, already placed\"\n",
    "\n",
    "        active_turn = self.switch_turn()\n",
    "        print(f\"player {self._players[get_player()].name} is placing: {active_turn}\")\n",
    "        self._grid.place_mark(x, y, active_turn)\n",
    "        print(self._grid.grid)\n",
    "\n",
    "        check_win = self.check_win()\n",
    "        if check_win:\n",
    "            return check_win\n",
    "        \n",
    "\n",
    "    def check_all_sums(self):\n",
    "        sums = []\n",
    "        matrix = self._grid.grid\n",
    "    \n",
    "        # Row sums\n",
    "        row_sums = np.sum(matrix, axis=1)\n",
    "        print(\"Row sums:\", row_sums)\n",
    "        \n",
    "        # Column sums\n",
    "        col_sums = np.sum(matrix, axis=0)\n",
    "        print(\"Column sums:\", col_sums) \n",
    "        \n",
    "        # Main diagonal sum (top-left to bottom-right)\n",
    "        main_diag_sum = np.trace(matrix)\n",
    "        print(\"Main diagonal sum:\", main_diag_sum)  \n",
    "        \n",
    "        # Anti-diagonal sum (top-right to bottom-left)\n",
    "        anti_diag_sum = np.trace(np.fliplr(matrix))\n",
    "        print(\"Anti-diagonal sum:\", anti_diag_sum)  \n",
    "    \n",
    "    \n",
    "        sums.extend(row_sums)\n",
    "        sums.extend(col_sums)\n",
    "        sums.append(main_diag_sum)\n",
    "        sums.append(anti_diag_sum)\n",
    "    \n",
    "    \n",
    "        return sums\n",
    "    \n",
    "    def check_win(self):\n",
    "        all_sum = check_win(grid.grid)\n",
    "\n",
    "        if 3 in all_sum:\n",
    "            return f\"{game.players[1].name} wins\"\n",
    "        elif -3 in all_sum:\n",
    "            return f\"{game.players[0].name} wins\"\n",
    "        "
   ]
  },
  {
   "cell_type": "code",
   "execution_count": 415,
   "id": "2599b5f4-8c16-41af-823d-d9da04a5c403",
   "metadata": {},
   "outputs": [
    {
     "name": "stdout",
     "output_type": "stream",
     "text": [
      "2\n"
     ]
    }
   ],
   "source": [
    "grid = Grid()\n",
    "game = Game(grid, [\"p1\", \"p2\"]) \n",
    "print(game.get_dim())"
   ]
  },
  {
   "cell_type": "code",
   "execution_count": 437,
   "id": "104056fb-3c2f-4a68-8bf6-2e5c5a9af36d",
   "metadata": {},
   "outputs": [
    {
     "name": "stdout",
     "output_type": "stream",
     "text": [
      "player p1 is placing: 1\n",
      "[[-1  1 -1]\n",
      " [ 1 -1 -1]\n",
      " [ 1  1  1]]\n",
      "Row sums: [-1 -1  3]\n",
      "Column sums: [ 1  1 -1]\n",
      "Main diagonal sum: -1\n",
      "Anti-diagonal sum: -1\n"
     ]
    },
    {
     "data": {
      "text/plain": [
       "'p2 wins'"
      ]
     },
     "execution_count": 437,
     "metadata": {},
     "output_type": "execute_result"
    }
   ],
   "source": [
    "# 0 <= x,y <= 2\n",
    "import random\n",
    "x = random.randrange(3)\n",
    "y = random.randrange(3)\n",
    "game.play_move(x,y)"
   ]
  },
  {
   "cell_type": "code",
   "execution_count": null,
   "id": "6d752a9d-a9ee-4415-abe5-d3a37ce58ae5",
   "metadata": {},
   "outputs": [],
   "source": []
  },
  {
   "cell_type": "code",
   "execution_count": null,
   "id": "eb4f47e9-411c-4a36-b826-9fe9646606f6",
   "metadata": {},
   "outputs": [],
   "source": []
  },
  {
   "cell_type": "code",
   "execution_count": null,
   "id": "a2290d49-03d4-4388-acae-b68b1052dd56",
   "metadata": {},
   "outputs": [],
   "source": []
  },
  {
   "cell_type": "code",
   "execution_count": null,
   "id": "eb14eb2a-09f1-4790-8a50-a3d8581e6354",
   "metadata": {},
   "outputs": [],
   "source": []
  }
 ],
 "metadata": {
  "kernelspec": {
   "display_name": "Python 3 (ipykernel)",
   "language": "python",
   "name": "python3"
  },
  "language_info": {
   "codemirror_mode": {
    "name": "ipython",
    "version": 3
   },
   "file_extension": ".py",
   "mimetype": "text/x-python",
   "name": "python",
   "nbconvert_exporter": "python",
   "pygments_lexer": "ipython3",
   "version": "3.12.4"
  }
 },
 "nbformat": 4,
 "nbformat_minor": 5
}
